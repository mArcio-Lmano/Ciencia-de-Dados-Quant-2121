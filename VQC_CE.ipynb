{
 "cells": [
  {
   "cell_type": "code",
   "execution_count": 1,
   "id": "2b0f199e",
   "metadata": {},
   "outputs": [],
   "source": [
    "from qiskit import QuantumCircuit, ClassicalRegister, QuantumRegister, Aer, execute, transpile, assemble, IBMQ\n",
    "from qiskit.utils import QuantumInstance\n",
    "from qiskit.circuit import Parameter,ParameterVector\n",
    "from qiskit.visualization import plot_histogram\n",
    "from qiskit.circuit.library import EfficientSU2, ZZFeatureMap\n",
    "from qiskit.opflow import Z, X, I, StateFn, CircuitStateFn, SummedOp\n",
    "from qiskit.opflow.gradients import Gradient, NaturalGradient, QFI, Hessian\n",
    "from qiskit_machine_learning.circuit.library import RawFeatureVector\n",
    "from qiskit_machine_learning.algorithms.classifiers import VQC\n",
    "from sklearn.preprocessing import OneHotEncoder\n",
    "from qiskit.providers.aer.noise import NoiseModel\n",
    "from qiskit.algorithms.optimizers import SPSA, GradientDescent, QNSPSA, ADAM\n",
    "from qiskit.tools.monitor import job_monitor\n",
    "\n",
    "import numpy as np\n",
    "import itertools as itr\n",
    "import matplotlib.pyplot as plt\n",
    "from qiskit_machine_learning.runtime import TorchRuntimeClient, TorchRuntimeResult\n",
    "\n",
    "ACC_COUNT = 10\n",
    "\n",
    "## Amp\n",
    "DIR_val_train_amp = \"Encode_data/amp_enc_data_set_trainning_values.csv\"\n",
    "DIR_cls_train_amp = \"Encode_data/amp_enc_data_set_trainning_classes.csv\"\n",
    "DIR_val_test_amp = \"Encode_data/amp_enc_data_set_test_values.csv\"\n",
    "DIR_cls_test_amp = \"Encode_data/amp_enc_data_set_test_classes.csv\"\n",
    "\n",
    "## Ang\n",
    "DIR_val_train_ang = \"Encode_data/ang_enc_data_set_trainning_values.csv\"\n",
    "DIR_cls_train_ang = \"Encode_data/ang_enc_data_set_trainning_classes.csv\"\n",
    "DIR_val_test_ang = \"Encode_data/ang_enc_data_set_test_values.csv\"\n",
    "DIR_cls_test_ang = \"Encode_data/ang_enc_data_set_test_classes.csv\""
   ]
  },
  {
   "cell_type": "code",
   "execution_count": 2,
   "id": "383dff6e",
   "metadata": {},
   "outputs": [],
   "source": [
    "def get_encode(file):\n",
    "    \"\"\"\n",
    "     Funcao responsavel pelo encoding (amplitude)\n",
    "        Input :: \n",
    "        ### file : File dir\n",
    "        Output :: \n",
    "        #### data_enc : Valores para o encode (numpy array)\n",
    "    \"\"\"\n",
    "    return np.genfromtxt(file, delimiter=\";\")"
   ]
  },
  {
   "cell_type": "code",
   "execution_count": 3,
   "id": "6b9c6175",
   "metadata": {},
   "outputs": [],
   "source": [
    "n_qubits = 2\n",
    "\n",
    "encoding = RawFeatureVector(n_qubits**2)\n",
    "\n",
    "#2 Fica num platue de cost = 2\n",
    "ansatz = EfficientSU2(n_qubits, entanglement='full', reps=4, \n",
    "                        insert_barriers=True, name=\"U(\\u03B8)\", \n",
    "                        parameter_prefix=\"\\u03B8\")\n",
    "\n",
    "qc = encoding.compose(ansatz)\n",
    "qc.measure_all()"
   ]
  },
  {
   "cell_type": "code",
   "execution_count": 4,
   "id": "0c6185c0",
   "metadata": {},
   "outputs": [
    {
     "name": "stdout",
     "output_type": "stream",
     "text": [
      "Training data set:  2000\n",
      "Testing data set:   600\n"
     ]
    }
   ],
   "source": [
    "train_data_amp = get_encode(DIR_val_train_amp)\n",
    "train_labels_amp = get_encode(DIR_cls_train_amp)\n",
    "\n",
    "test_data_amp = get_encode(DIR_val_test_amp)\n",
    "test_labels_amp = get_encode(DIR_cls_test_amp)\n",
    "\n",
    "encoder = OneHotEncoder()\n",
    "train_labels_oh_amp = encoder.fit_transform(train_labels_amp.reshape(-1, 1)).toarray()\n",
    "test_labels_oh_amp = encoder.fit_transform(test_labels_amp.reshape(-1, 1)).toarray()\n",
    "\n",
    "print(\"Training data set: \", len(train_labels_amp))\n",
    "print(\"Testing data set:  \", len(test_labels_amp))"
   ]
  },
  {
   "cell_type": "code",
   "execution_count": null,
   "id": "30441c88",
   "metadata": {},
   "outputs": [
    {
     "name": "stderr",
     "output_type": "stream",
     "text": [
      "Cannot compute gradient operator! Continuing without gradients!\n"
     ]
    }
   ],
   "source": [
    "def store_intermediate_result(evaluation, parameter, cost, \n",
    "                                stepsize, accept):\n",
    "                evaluations.append(evaluation)\n",
    "                parameters.append(parameter)\n",
    "                costs.append(cost)\n",
    "\n",
    "        # Set up the optimization\n",
    "\n",
    "parameters = []\n",
    "costs = []\n",
    "evaluations = []\n",
    "initial_point = np.random.random(ansatz.num_parameters)\n",
    "\n",
    "vqc = VQC(feature_map=encoding,\n",
    "          ansatz=ansatz,\n",
    "          loss='cross_entropy',\n",
    "          optimizer=SPSA(maxiter=200, callback=store_intermediate_result),\n",
    "          initial_point=initial_point,\n",
    "          quantum_instance=Aer.get_backend('qasm_simulator'))\n",
    "\n",
    "vqc.fit(train_data_amp, train_labels_oh_amp)"
   ]
  },
  {
   "cell_type": "code",
   "execution_count": null,
   "id": "63da4f98",
   "metadata": {
    "scrolled": true
   },
   "outputs": [],
   "source": [
    "fig = plt.figure()\n",
    "plt.plot(evaluations, costs)\n",
    "plt.xlabel('Steps')\n",
    "plt.ylabel('Cost')\n",
    "plt.title(\"cost function during training\")\n",
    "plt.show()\n",
    "vqc.score(test_data_amp, test_labels_oh_amp)"
   ]
  },
  {
   "cell_type": "code",
   "execution_count": null,
   "id": "40db21f6",
   "metadata": {},
   "outputs": [],
   "source": [
    "train_data_ang = get_encode(DIR_val_train_ang)\n",
    "train_labels_ang = get_encode(DIR_cls_train_ang)\n",
    "\n",
    "test_data_ang= get_encode(DIR_val_test_ang)\n",
    "test_labels_ang = get_encode(DIR_cls_test_ang)\n",
    "\n",
    "encoder = OneHotEncoder()\n",
    "train_labels_oh_ang = encoder.fit_transform(train_labels_ang.reshape(-1, 1)).toarray()\n",
    "test_labels_oh_ang = encoder.fit_transform(test_labels_ang.reshape(-1, 1)).toarray()"
   ]
  },
  {
   "cell_type": "code",
   "execution_count": null,
   "id": "e1764640",
   "metadata": {},
   "outputs": [],
   "source": [
    "n_qubits = 2\n",
    "\n",
    "encoding = ZZFeatureMap(feature_dimension=n_qubits, reps=3)\n",
    "\n",
    "ansatz = EfficientSU2(n_qubits, entanglement='full', reps=3, \n",
    "                        insert_barriers=True, name=\"U(\\u03B8)\", \n",
    "                        parameter_prefix=\"\\u03B8\")\n",
    "\n",
    "qc = encoding.compose(ansatz)\n",
    "qc.measure_all()"
   ]
  },
  {
   "cell_type": "code",
   "execution_count": null,
   "id": "8df2ec50",
   "metadata": {},
   "outputs": [],
   "source": [
    "def store_intermediate_result(evaluation, parameter, cost, \n",
    "                                stepsize, accept):\n",
    "                evaluations.append(evaluation)\n",
    "                parameters.append(parameter)\n",
    "                costs.append(cost)\n",
    "\n",
    "        # Set up the optimization\n",
    "\n",
    "parameters = []\n",
    "costs = []\n",
    "evaluations = []\n",
    "initial_point = np.random.random(ansatz.num_parameters)\n",
    "\n",
    "vqc = VQC(feature_map=encoding,\n",
    "          ansatz=ansatz,\n",
    "          loss='cross_entropy',\n",
    "          optimizer=SPSA(maxiter=200, callback=store_intermediate_result),\n",
    "          initial_point=initial_point,\n",
    "          quantum_instance=Aer.get_backend('qasm_simulator'))\n",
    "\n",
    "vqc.fit(train_data_ang, train_labels_oh_ang)"
   ]
  },
  {
   "cell_type": "code",
   "execution_count": null,
   "id": "ba04e4a2",
   "metadata": {},
   "outputs": [],
   "source": [
    "fig = plt.figure()\n",
    "plt.plot(evaluations, costs)\n",
    "plt.xlabel('Steps')\n",
    "plt.ylabel('Cost')\n",
    "plt.title(\"cost function during training\")\n",
    "plt.show()\n",
    "vqc.score(test_data_ang, test_labels_oh_ang)"
   ]
  }
 ],
 "metadata": {
  "kernelspec": {
   "display_name": "Python 3 (ipykernel)",
   "language": "python",
   "name": "python3"
  },
  "language_info": {
   "codemirror_mode": {
    "name": "ipython",
    "version": 3
   },
   "file_extension": ".py",
   "mimetype": "text/x-python",
   "name": "python",
   "nbconvert_exporter": "python",
   "pygments_lexer": "ipython3",
   "version": "3.8.10"
  }
 },
 "nbformat": 4,
 "nbformat_minor": 5
}
