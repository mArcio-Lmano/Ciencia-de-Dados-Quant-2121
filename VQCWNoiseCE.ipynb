{
 "cells": [
  {
   "cell_type": "code",
   "execution_count": 1,
   "id": "2b0f199e",
   "metadata": {},
   "outputs": [],
   "source": [
    "from tqdm.notebook import tqdm_notebook\n",
    "\n",
    "from qiskit import QuantumCircuit, ClassicalRegister, QuantumRegister, Aer, execute, transpile, assemble, IBMQ\n",
    "from qiskit.utils import QuantumInstance\n",
    "from qiskit.circuit import Parameter,ParameterVector\n",
    "from qiskit.visualization import plot_histogram\n",
    "from qiskit.circuit.library import EfficientSU2, ZZFeatureMap\n",
    "from qiskit.opflow import Z, X, I, StateFn, CircuitStateFn, SummedOp\n",
    "from qiskit.opflow.gradients import Gradient, NaturalGradient, QFI, Hessian\n",
    "from qiskit_machine_learning.circuit.library import RawFeatureVector\n",
    "from qiskit_machine_learning.algorithms.classifiers import VQC\n",
    "from sklearn.preprocessing import OneHotEncoder\n",
    "from qiskit.providers.aer.noise import NoiseModel\n",
    "from qiskit.algorithms.optimizers import SPSA, GradientDescent, QNSPSA, ADAM\n",
    "from qiskit.tools.monitor import job_monitor\n",
    "\n",
    "import numpy as np\n",
    "import itertools as itr\n",
    "import matplotlib.pyplot as plt\n",
    "from qiskit_machine_learning.runtime import TorchRuntimeClient, TorchRuntimeResult\n",
    "\n",
    "ACC_COUNT = 10\n",
    "\n",
    "## Amp\n",
    "DIR_val_train_amp = \"Encode_data/amp_enc_data_set_trainning_values.csv\"\n",
    "DIR_cls_train_amp = \"Encode_data/amp_enc_data_set_trainning_classes.csv\"\n",
    "DIR_val_test_amp = \"Encode_data/amp_enc_data_set_test_values.csv\"\n",
    "DIR_cls_test_amp = \"Encode_data/amp_enc_data_set_test_classes.csv\"\n",
    "\n",
    "## Ang\n",
    "DIR_val_train_ang = \"Encode_data/ang_enc_data_set_trainning_values.csv\"\n",
    "DIR_cls_train_ang = \"Encode_data/ang_enc_data_set_trainning_classes.csv\"\n",
    "DIR_val_test_ang = \"Encode_data/ang_enc_data_set_test_values.csv\"\n",
    "DIR_cls_test_ang = \"Encode_data/ang_enc_data_set_test_classes.csv\"\\\n",
    "\n",
    "provider = IBMQ.enable_account(\"dcbfead05af57561bd8ede02e3ba82d103c40683442fd5742116c4cc079999d49e865bc6b579a2f21186e8b7fb732c7161712ff6f41fcd9ea4c820e6d4d53d00\")\n",
    "backend = provider.get_backend('ibmq_manila')\n",
    "noise_model = NoiseModel.from_backend(backend)\n",
    "\n",
    "quantum_instance = QuantumInstance(backend=Aer.get_backend('qasm_simulator'), \n",
    "                                   shots=1024,\n",
    "                                   noise_model=noise_model)"
   ]
  },
  {
   "cell_type": "code",
   "execution_count": 2,
   "id": "e88f8f2a",
   "metadata": {},
   "outputs": [],
   "source": [
    "def get_encode(file):\n",
    "    \"\"\"\n",
    "     Funcao responsavel pelo encoding (amplitude)\n",
    "        Input :: \n",
    "        ### file : File dir\n",
    "        Output :: \n",
    "        #### data_enc : Valores para o encode (numpy array)\n",
    "    \"\"\"\n",
    "    return np.genfromtxt(file, delimiter=\";\")\n",
    "\n",
    "def get_mat(model, data_points, labels):\n",
    "    ret = np.zeros((2,2))\n",
    "    predict = model.predict(data_points)\n",
    "    for p, r in zip(predict, labels):\n",
    "        if np.array_equal(p,r) and r[0] == 1:\n",
    "            ret[0,0] += 1\n",
    "        elif not np.array_equal(p,r) and r[0] == 1:\n",
    "            ret[1,0] += 1\n",
    "        elif np.array_equal(p,r) and r[0] == 0:\n",
    "            ret[1,1]+=1\n",
    "        elif not np.array_equal(p,r) and r[0] == 0:\n",
    "            ret[0,1] += 1\n",
    "    return ret, len(data_points)\n",
    "\n",
    "def get_stats(mat):\n",
    "    \"\"\"\n",
    "    - Recall, True Positive Rate ou Sensitividade - TPR\n",
    "        Mede uma proporção dos valores que são de facto \n",
    "        positivos e que foram preditos corretamente.\n",
    "        \n",
    "    - Precision\n",
    "        Mede a proporção de predições positivas que estão corretas,\n",
    "        ou seja, quão bem o modelo predisse os valores positivos.\n",
    "        \n",
    "    - False Positive Rate - FPR \n",
    "        Indica quanto da classe negativa foi \n",
    "        predito incorretamente.\n",
    "    \"\"\"\n",
    "    \n",
    "    stats ={}\n",
    "    st = [\"TPR\", \"TNR\", \"Precision\", \"FPR\", \"FNR\"]\n",
    "    stats[st[0]] = mat[0,0]/(mat[0,0]*mat[1,0])\n",
    "    stats[st[1]] = mat[1,1]/(mat[1,1]*mat[0,1])\n",
    "    stats[st[2]] = mat[0,0]/(mat[0,0]*mat[0,1])\n",
    "    stats[st[3]] = mat[0,1]/(mat[0,1]*mat[1,1])\n",
    "    stats[st[4]] = mat[1,1]/(mat[1,1]*mat[0,0])\n",
    "    return stats"
   ]
  },
  {
   "cell_type": "code",
   "execution_count": 4,
   "id": "6b9c6175",
   "metadata": {},
   "outputs": [],
   "source": [
    "n_qubits = 3\n",
    "\n",
    "encoding = RawFeatureVector(2**n_qubits)\n",
    "\n",
    "#2 Fica num platue de cost = 2\n",
    "ansatz = EfficientSU2(n_qubits, entanglement='full', reps=4, \n",
    "                        insert_barriers=True, name=\"U(\\u03B8)\", \n",
    "                        parameter_prefix=\"\\u03B8\")\n",
    "\n",
    "qc = encoding.compose(ansatz)\n",
    "qc.measure_all()"
   ]
  },
  {
   "cell_type": "code",
   "execution_count": 5,
   "id": "0c6185c0",
   "metadata": {},
   "outputs": [
    {
     "name": "stdout",
     "output_type": "stream",
     "text": [
      "Training data set:  180\n",
      "Testing data set:   54\n"
     ]
    }
   ],
   "source": [
    "train_data_amp = get_encode(DIR_val_train_amp)\n",
    "train_labels_amp = get_encode(DIR_cls_train_amp)\n",
    "\n",
    "test_data_amp = get_encode(DIR_val_test_amp)\n",
    "test_labels_amp = get_encode(DIR_cls_test_amp)\n",
    "\n",
    "encoder = OneHotEncoder()\n",
    "train_labels_oh_amp = encoder.fit_transform(train_labels_amp.reshape(-1, 1)).toarray()\n",
    "test_labels_oh_amp = encoder.fit_transform(test_labels_amp.reshape(-1, 1)).toarray()\n",
    "\n",
    "print(\"Training data set: \", len(train_labels_amp))\n",
    "print(\"Testing data set:  \", len(test_labels_amp))"
   ]
  },
  {
   "cell_type": "code",
   "execution_count": 6,
   "id": "1757b404",
   "metadata": {},
   "outputs": [],
   "source": [
    "initial_point = np.random.random(ansatz.num_parameters)"
   ]
  },
  {
   "cell_type": "code",
   "execution_count": 7,
   "id": "30441c88",
   "metadata": {},
   "outputs": [
    {
     "data": {
      "application/vnd.jupyter.widget-view+json": {
       "model_id": "1293ab3895d240399efcc0ad8a04f9f3",
       "version_major": 2,
       "version_minor": 0
      },
      "text/plain": [
       "  0%|          | 0/5 [00:00<?, ?it/s]"
      ]
     },
     "metadata": {},
     "output_type": "display_data"
    },
    {
     "data": {
      "application/vnd.jupyter.widget-view+json": {
       "model_id": "",
       "version_major": 2,
       "version_minor": 0
      },
      "text/plain": [
       "  0%|          | 0/200 [00:00<?, ?it/s]"
      ]
     },
     "metadata": {},
     "output_type": "display_data"
    },
    {
     "name": "stderr",
     "output_type": "stream",
     "text": [
      "Cannot compute gradient operator! Continuing without gradients!\n"
     ]
    },
    {
     "data": {
      "image/png": "[encoded data removed]",
      "text/plain": [
       "<Figure size 432x288 with 1 Axes>"
      ]
     },
     "metadata": {
      "needs_background": "light"
     },
     "output_type": "display_data"
    },
    {
     "data": {
      "application/vnd.jupyter.widget-view+json": {
       "model_id": "",
       "version_major": 2,
       "version_minor": 0
      },
      "text/plain": [
       "  0%|          | 0/400 [00:00<?, ?it/s]"
      ]
     },
     "metadata": {},
     "output_type": "display_data"
    },
    {
     "name": "stderr",
     "output_type": "stream",
     "text": [
      "Cannot compute gradient operator! Continuing without gradients!\n"
     ]
    },
    {
     "data": {
      "image/png": "[encoded data removed]",
      "text/plain": [
       "<Figure size 432x288 with 1 Axes>"
      ]
     },
     "metadata": {
      "needs_background": "light"
     },
     "output_type": "display_data"
    },
    {
     "data": {
      "application/vnd.jupyter.widget-view+json": {
       "model_id": "",
       "version_major": 2,
       "version_minor": 0
      },
      "text/plain": [
       "  0%|          | 0/600 [00:00<?, ?it/s]"
      ]
     },
     "metadata": {},
     "output_type": "display_data"
    },
    {
     "name": "stderr",
     "output_type": "stream",
     "text": [
      "Cannot compute gradient operator! Continuing without gradients!\n"
     ]
    },
    {
     "data": {
      "image/png": "[encoded data removed]",
      "text/plain": [
       "<Figure size 432x288 with 1 Axes>"
      ]
     },
     "metadata": {
      "needs_background": "light"
     },
     "output_type": "display_data"
    },
    {
     "data": {
      "application/vnd.jupyter.widget-view+json": {
       "model_id": "",
       "version_major": 2,
       "version_minor": 0
      },
      "text/plain": [
       "  0%|          | 0/800 [00:00<?, ?it/s]"
      ]
     },
     "metadata": {},
     "output_type": "display_data"
    },
    {
     "name": "stderr",
     "output_type": "stream",
     "text": [
      "Cannot compute gradient operator! Continuing without gradients!\n"
     ]
    },
    {
     "data": {
      "image/png": "[encoded data removed]",
      "text/plain": [
       "<Figure size 432x288 with 1 Axes>"
      ]
     },
     "metadata": {
      "needs_background": "light"
     },
     "output_type": "display_data"
    },
    {
     "data": {
      "application/vnd.jupyter.widget-view+json": {
       "model_id": "09226370ace54dbf9bc25dd43f55d66b",
       "version_major": 2,
       "version_minor": 0
      },
      "text/plain": [
       "  0%|          | 0/1000 [00:00<?, ?it/s]"
      ]
     },
     "metadata": {},
     "output_type": "display_data"
    },
    {
     "name": "stderr",
     "output_type": "stream",
     "text": [
      "Cannot compute gradient operator! Continuing without gradients!\n"
     ]
    },
    {
     "data": {
      "image/png": "[encoded data removed]",
      "text/plain": [
       "<Figure size 432x288 with 1 Axes>"
      ]
     },
     "metadata": {
      "needs_background": "light"
     },
     "output_type": "display_data"
    },
    {
     "ename": "NameError",
     "evalue": "name 'json' is not defined",
     "output_type": "error",
     "traceback": [
      "\u001b[0;31m---------------------------------------------------------------------------\u001b[0m",
      "\u001b[0;31mNameError\u001b[0m                                 Traceback (most recent call last)",
      "Input \u001b[0;32mIn [7]\u001b[0m, in \u001b[0;36m<module>\u001b[0;34m\u001b[0m\n\u001b[1;32m     51\u001b[0m     t\u001b[38;5;241m.\u001b[39mupdate(\u001b[38;5;241m1\u001b[39m)\n\u001b[1;32m     53\u001b[0m \u001b[38;5;28;01mwith\u001b[39;00m \u001b[38;5;28mopen\u001b[39m(\u001b[38;5;124m'\u001b[39m\u001b[38;5;124mamp_ce_3Qbits_Noise.json\u001b[39m\u001b[38;5;124m'\u001b[39m, \u001b[38;5;124m'\u001b[39m\u001b[38;5;124mw\u001b[39m\u001b[38;5;124m'\u001b[39m, encoding \u001b[38;5;241m=\u001b[39m\u001b[38;5;124m'\u001b[39m\u001b[38;5;124mutf8\u001b[39m\u001b[38;5;124m'\u001b[39m) \u001b[38;5;28;01mas\u001b[39;00m json_file:\n\u001b[0;32m---> 54\u001b[0m     \u001b[43mjson\u001b[49m\u001b[38;5;241m.\u001b[39mdump(dic_amp, json_file, ensure_ascii \u001b[38;5;241m=\u001b[39m \u001b[38;5;28;01mTrue\u001b[39;00m)\n",
      "\u001b[0;31mNameError\u001b[0m: name 'json' is not defined"
     ]
    }
   ],
   "source": [
    "maxiter=200\n",
    "def store_intermediate_result(evaluation, parameter, cost, stepsize, accept):\n",
    "    evaluations.append(evaluation)\n",
    "    parameters.append(parameter)\n",
    "    costs.append(cost)\n",
    "    p.update(1)\n",
    "\n",
    "dic_amp = {}\n",
    "t = tqdm_notebook(total=5)    \n",
    "while maxiter <= 1000:    \n",
    "    ### Progress Bar\n",
    "    p = tqdm_notebook(total=maxiter, leave=False)\n",
    "    \n",
    "    dic_amp[maxiter] = {}\n",
    "    dic_amp[maxiter][\"score\"] = {}\n",
    "    \n",
    "    parameters = []\n",
    "    costs = []\n",
    "    evaluations = []\n",
    "    \n",
    "    vqc = VQC(feature_map=encoding,\n",
    "              ansatz=ansatz,\n",
    "              loss='squared_error',\n",
    "              optimizer=SPSA(maxiter=maxiter, callback=store_intermediate_result),\n",
    "              initial_point=initial_point,\n",
    "              quantum_instance=Aer.get_backend('qasm_simulator'))\n",
    "\n",
    "    vqc.fit(train_data_amp, train_labels_oh_amp)\n",
    "    score_train = vqc.score(train_data_amp, train_labels_oh_amp)\n",
    "    dic_amp[maxiter][\"score\"][\"trainning\"] = score_train\n",
    "    \n",
    "    fig = plt.figure()\n",
    "    plt.plot(evaluations, costs)\n",
    "    plt.xlabel('Steps')\n",
    "    plt.ylabel('Cost')\n",
    "    plt.title(\"cost function during training\")\n",
    "    plt.show()\n",
    "\n",
    "    score_tst = vqc.score(test_data_amp, test_labels_oh_amp)\n",
    "    dic_amp[maxiter][\"score\"][\"test\"] = score_tst\n",
    "    \n",
    "    mat, lng = get_mat(vqc, test_data_amp, test_labels_oh_amp)\n",
    "    dic_amp[maxiter][\"mat\"] = mat.tolist()\n",
    "    \n",
    "    stats = get_stats(mat)\n",
    "    dic_amp[maxiter][\"stats\"] = stats\n",
    "    \n",
    "    dic_amp[maxiter][\"parameters\"] = parameters[-1].tolist()\n",
    "    \n",
    "    maxiter += 200\n",
    "    t.update(1)\n",
    "    \n",
    "with open('amp_ce_3Qbits_Noise.json', 'w', encoding ='utf8') as json_file:\n",
    "    json.dump(dic_amp, json_file, ensure_ascii = True)"
   ]
  },
  {
   "cell_type": "code",
   "execution_count": null,
   "id": "f927f7f6",
   "metadata": {},
   "outputs": [],
   "source": [
    "%%script echo skip\n",
    "fig = plt.figure()\n",
    "plt.plot(evaluations, costs)\n",
    "plt.xlabel('Steps')\n",
    "plt.ylabel('Cost')\n",
    "plt.title(\"cost function during training\")\n",
    "plt.show()\n",
    "\n",
    "print(\"Labels: \", test_labels_oh_amp)\n",
    "print(\"Predict: \", vqc.predict(test_data_amp))\n",
    "print(\"Score: \", vqc.score(test_data_amp, test_labels_oh_amp))"
   ]
  },
  {
   "cell_type": "code",
   "execution_count": null,
   "id": "ecc9b634",
   "metadata": {},
   "outputs": [],
   "source": [
    "dic_amp"
   ]
  },
  {
   "cell_type": "code",
   "execution_count": null,
   "id": "40db21f6",
   "metadata": {},
   "outputs": [],
   "source": [
    "train_data_ang = get_encode(DIR_val_train_ang)\n",
    "train_labels_ang = get_encode(DIR_cls_train_ang)\n",
    "\n",
    "test_data_ang= get_encode(DIR_val_test_ang)\n",
    "test_labels_ang = get_encode(DIR_cls_test_ang)\n",
    "\n",
    "encoder = OneHotEncoder()\n",
    "train_labels_oh_ang = encoder.fit_transform(train_labels_ang.reshape(-1, 1)).toarray()\n",
    "test_labels_oh_ang = encoder.fit_transform(test_labels_ang.reshape(-1, 1)).toarray()"
   ]
  },
  {
   "cell_type": "code",
   "execution_count": null,
   "id": "e1764640",
   "metadata": {},
   "outputs": [],
   "source": [
    "n_qubits = 3\n",
    "\n",
    "encoding = ZZFeatureMap(feature_dimension=n_qubits, reps=3)\n",
    "\n",
    "ansatz = EfficientSU2(n_qubits, entanglement='full', reps=4, \n",
    "                        insert_barriers=True, name=\"U(\\u03B8)\", \n",
    "                        parameter_prefix=\"\\u03B8\")\n",
    "\n",
    "qc = encoding.compose(ansatz)\n",
    "qc.measure_all()"
   ]
  },
  {
   "cell_type": "code",
   "execution_count": null,
   "id": "8df2ec50",
   "metadata": {},
   "outputs": [],
   "source": [
    "maxiter=200\n",
    "def store_intermediate_result(evaluation, parameter, cost, stepsize, accept):\n",
    "    evaluations.append(evaluation)\n",
    "    parameters.append(parameter)\n",
    "    costs.append(cost)\n",
    "    p.update(1)\n",
    "\n",
    "dic_ang = {}\n",
    "t = tqdm_notebook(total=5)    \n",
    "while maxiter <= 1000:    \n",
    "    ### Progress Bar\n",
    "    p = tqdm_notebook(total=maxiter, leave=False)\n",
    "    \n",
    "    dic_ang[maxiter] = {}\n",
    "    \n",
    "    dic_ang[maxiter][\"score\"] = {}\n",
    "    parameters = []\n",
    "    costs = []\n",
    "    evaluations = []\n",
    "    \n",
    "    vqc = VQC(feature_map=encoding,\n",
    "              ansatz=ansatz,\n",
    "              loss='squared_error',\n",
    "              optimizer=SPSA(maxiter=maxiter, callback=store_intermediate_result),\n",
    "              initial_point=initial_point,\n",
    "              quantum_instance=Aer.get_backend('qasm_simulator'))\n",
    "\n",
    "    vqc.fit(train_data_ang, train_labels_oh_ang)\n",
    "    score_train = vqc.score(train_data_ang, train_labels_oh_ang)\n",
    "    dic_ang[maxiter][\"score\"][\"trainning\"] = score_train\n",
    "    \n",
    "    fig = plt.figure()\n",
    "    plt.plot(evaluations, costs)\n",
    "    plt.xlabel('Steps')\n",
    "    plt.ylabel('Cost')\n",
    "    plt.title(\"cost function during training\")\n",
    "    plt.show()\n",
    "    \n",
    "    score_tst = vqc.score(test_data_ang, test_labels_oh_ang)\n",
    "    dic_ang[maxiter][\"score\"][\"test\"] = score_tst\n",
    "    \n",
    "    mat, lng = get_mat(vqc, test_data_ang, test_labels_oh_ang)\n",
    "    dic_ang[maxiter][\"mat\"] = mat.tolist()\n",
    "    \n",
    "    stats = get_stats(mat)\n",
    "    dic_ang[maxiter][\"stats\"] = stats\n",
    "    \n",
    "    dic_ang[maxiter][\"parameters\"] = parameters[-1].tolist()\n",
    "    \n",
    "    maxiter += 200\n",
    "    t.update(1)\n",
    "    \n",
    "with open('ang_ce_3Qbits_Noise.json', 'w', encoding ='utf8') as json_file:\n",
    "    json.dump(dic_ang, json_file, ensure_ascii = True)"
   ]
  },
  {
   "cell_type": "code",
   "execution_count": null,
   "id": "ba04e4a2",
   "metadata": {},
   "outputs": [],
   "source": [
    "%%script echo skip\n",
    "\n",
    "fig = plt.figure()\n",
    "plt.plot(evaluations, costs)\n",
    "plt.xlabel('Steps')\n",
    "plt.ylabel('Cost')\n",
    "plt.title(\"cost function during training\")\n",
    "plt.show()\n",
    "\n",
    "print(\"Labels: \", test_labels_oh_ang)\n",
    "print(\"Predict: \", vqc.predict(test_data_ang))\n",
    "print(\"Score: \", vqc.score(test_data_ang, test_labels_oh_ang))"
   ]
  },
  {
   "cell_type": "code",
   "execution_count": null,
   "id": "e863b071",
   "metadata": {},
   "outputs": [],
   "source": [
    "epochs = [200, 400, 600, 800, 1000]\n",
    "trainning_scores_ang = []\n",
    "\n",
    "test_scores_ang = []\n",
    "test_TNR_ang = []\n",
    "test_TPR_ang = []\n",
    "\n",
    "for epoch in epochs:\n",
    "    trainning_scores_ang += [dic_ang[epoch][\"score\"][\"trainning\"]]\n",
    " \n",
    "    test_scores_ang += [dic_ang[epoch][\"score\"][\"test\"]]\n",
    "    test_TNR_ang += [dic_ang[epoch][\"stats\"][\"TNR\"]]\n",
    "    test_TPR_ang += [dic_ang[epoch][\"stats\"][\"TPR\"]]"
   ]
  },
  {
   "cell_type": "code",
   "execution_count": null,
   "id": "dea4693a",
   "metadata": {},
   "outputs": [],
   "source": [
    "epochs = [200, 400, 600, 800, 1000]\n",
    "trainning_scores_amp = []\n",
    "\n",
    "test_scores_amp = []\n",
    "test_TNR_amp = []\n",
    "test_TPR_amp = []\n",
    "\n",
    "for epoch in epochs:\n",
    "    trainning_scores_amp += [dic_amp[epoch][\"score\"][\"trainning\"]]\n",
    "                         \n",
    "    test_scores_amp += [dic_amp[epoch][\"score\"][\"test\"]]\n",
    "    test_TNR_amp += [dic_amp[epoch][\"stats\"][\"TNR\"]]\n",
    "    test_TPR_amp += [dic_amp[epoch][\"stats\"][\"TPR\"]]"
   ]
  },
  {
   "cell_type": "code",
   "execution_count": null,
   "id": "8a6b2576",
   "metadata": {},
   "outputs": [],
   "source": [
    "fig = plt.figure(figsize=(4,4), layout='constrained')\n",
    "plt.plot(epochs, trainning_scores_ang, label='Trainning ZZ')\n",
    "plt.plot(epochs, test_scores_ang, label='Testing ZZ')\n",
    "plt.plot(epochs, trainning_scores_amp, label='Trainnning Amp.')\n",
    "plt.plot(epochs, test_scores_amp, label=\"Testing Amp.\")\n",
    "plt.xlabel('Epoch')\n",
    "plt.ylabel('Score')\n",
    "plt.title(\"Score for after\\ntrainning for each epochs\")\n",
    "plt.legend()\n",
    "plt.show()"
   ]
  },
  {
   "cell_type": "code",
   "execution_count": null,
   "id": "0e9ede7a",
   "metadata": {},
   "outputs": [],
   "source": [
    "fig = plt.figure(figsize=(4,4),layout='constrained')\n",
    "plt.plot(epochs, trainning_scores_ang, label='Trainning ZZ')\n",
    "plt.plot(epochs, test_scores_ang, label='Testing ZZ')\n",
    "plt.xlabel('Epoch')\n",
    "plt.ylabel('Score')\n",
    "plt.title(\"Score for after each trainning\\nsession (ZZFeature Map)\")\n",
    "plt.legend()\n",
    "plt.show()"
   ]
  },
  {
   "cell_type": "code",
   "execution_count": null,
   "id": "9dfa7a8f",
   "metadata": {},
   "outputs": [],
   "source": [
    "fig = plt.figure(figsize=(4,4),layout='constrained')\n",
    "plt.plot(epochs, trainning_scores_amp, label='Trainnning Amp.')\n",
    "plt.plot(epochs, test_scores_amp, label=\"Testing Amp.\")\n",
    "plt.xlabel('Epoch')\n",
    "plt.ylabel('Score')\n",
    "plt.title(\"Score for after each trainning\\nsession (Amplitude Encoding)\")\n",
    "plt.legend()\n",
    "plt.show()"
   ]
  },
  {
   "cell_type": "code",
   "execution_count": null,
   "id": "8b0ec266",
   "metadata": {},
   "outputs": [],
   "source": [
    "fig = plt.figure(figsize=(4,4), layout='constrained')\n",
    "plt.plot(epochs, test_TNR_ang, label='TNR')\n",
    "plt.plot(epochs, test_TPR_ang, label='TPR')\n",
    "plt.xlabel('Epoch')\n",
    "plt.ylabel('Score')\n",
    "plt.title(\"True Positive/Negative Rate for\\neach epochs (ZZFeature Map)\")\n",
    "plt.legend()\n",
    "plt.show()"
   ]
  },
  {
   "cell_type": "code",
   "execution_count": null,
   "id": "1fb567eb",
   "metadata": {},
   "outputs": [],
   "source": [
    "fig = plt.figure(figsize=(4,4), layout='constrained')\n",
    "plt.plot(epochs, test_TNR_amp, label='TNR')\n",
    "plt.plot(epochs, test_TPR_amp, label='TPR')\n",
    "plt.xlabel('Epoch')\n",
    "plt.ylabel('Score')\n",
    "plt.title(\"True Positive Rate for each\\nepochs (Ampplitude Encoding)\")\n",
    "plt.legend()\n",
    "plt.show()"
   ]
  },
  {
   "cell_type": "code",
   "execution_count": null,
   "id": "531f22d6",
   "metadata": {},
   "outputs": [],
   "source": []
  }
 ],
 "metadata": {
  "kernelspec": {
   "display_name": "Python 3 (ipykernel)",
   "language": "python",
   "name": "python3"
  },
  "language_info": {
   "codemirror_mode": {
    "name": "ipython",
    "version": 3
   },
   "file_extension": ".py",
   "mimetype": "text/x-python",
   "name": "python",
   "nbconvert_exporter": "python",
   "pygments_lexer": "ipython3",
   "version": "3.8.10"
  }
 },
 "nbformat": 4,
 "nbformat_minor": 5
}
