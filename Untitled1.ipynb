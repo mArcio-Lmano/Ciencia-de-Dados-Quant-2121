{
 "cells": [
  {
   "cell_type": "code",
   "execution_count": 1,
   "id": "1b6b6b6b",
   "metadata": {},
   "outputs": [],
   "source": [
    "from qiskit import QuantumCircuit, ClassicalRegister, QuantumRegister, Aer, execute, transpile, assemble\n",
    "from qiskit.circuit import Parameter,ParameterVector\n",
    "from qiskit.visualization import plot_histogram\n",
    "from qiskit.circuit.library import EfficientSU2\n",
    "from qiskit.opflow import Z, X, I, StateFn, CircuitStateFn, SummedOp\n",
    "from qiskit.opflow.gradients import Gradient, NaturalGradient, QFI, Hessian\n",
    "from qiskit_machine_learning.circuit.library import RawFeatureVector\n",
    "from sklearn.preprocessing import OneHotEncoder\n",
    "from qiskit.algorithms.optimizers import SPSA\n",
    "import numpy as np\n",
    "import itertools as itr\n",
    "import matplotlib.pyplot as plt\n",
    "\n",
    "DIR_val_train = \"Encode_data/amp_enc_data_set_trainning_values.csv\"\n",
    "DIR_cls_train = \"Encode_data/amp_enc_data_set_trainning_classes.csv\"\n",
    "\n",
    "DIR_val_test = \"Encode_data/amp_enc_data_set_test_values.csv\"\n",
    "DIR_cls_test = \"Encode_data/amp_enc_data_set_test_classes.csv\""
   ]
  },
  {
   "cell_type": "markdown",
   "id": "ea3576a0",
   "metadata": {},
   "source": [
    "# Circuito"
   ]
  },
  {
   "cell_type": "code",
   "execution_count": 2,
   "id": "af904159",
   "metadata": {},
   "outputs": [
    {
     "data": {
      "image/png": "[encoded data removed]",
      "text/plain": [
       "<Figure size 1501.48x325.08 with 1 Axes>"
      ]
     },
     "execution_count": 2,
     "metadata": {},
     "output_type": "execute_result"
    }
   ],
   "source": [
    "n_qubits = 4\n",
    "\n",
    "encoding = RawFeatureVector(16)\n",
    "\n",
    "ansatz = EfficientSU2(n_qubits, entanglement='full', reps=2, \n",
    "                        insert_barriers=True, name=\"U(\\u03B8)\", \n",
    "                        parameter_prefix=\"\\u03B8\")\n",
    "ansatz.decompose()\n",
    "qc = encoding.compose(ansatz)\n",
    "qc.measure_all()\n",
    "\n",
    "qc.draw(output=\"mpl\")"
   ]
  },
  {
   "cell_type": "code",
   "execution_count": 3,
   "id": "41aafb6d",
   "metadata": {},
   "outputs": [],
   "source": [
    "def get_encode(file, type_ENC):\n",
    "\n",
    "    \"\"\"\n",
    "    Funcao responsavel pelo encoding (amplitude)\n",
    "    \"\"\"\n",
    "    if type_ENC.lower() == \"amplitude\":\n",
    "\n",
    "        data_ENC = np.genfromtxt(file, delimiter=\";\")\n",
    "\n",
    "    else:\n",
    "        return None\n",
    "\n",
    "    return data_ENC"
   ]
  },
  {
   "cell_type": "code",
   "execution_count": 4,
   "id": "4ea3e6f6",
   "metadata": {},
   "outputs": [],
   "source": [
    "train_data = get_encode(DIR_val_train, \"amplitude\")\n",
    "train_labels = np.genfromtxt(DIR_cls_train, delimiter=\";\")\n",
    "\n",
    "test_data = get_encode(DIR_val_test, \"amplitude\")\n",
    "test_labels = np.genfromtxt(DIR_cls_test, delimiter=\";\")"
   ]
  },
  {
   "cell_type": "code",
   "execution_count": 5,
   "id": "8cb9cbb6",
   "metadata": {},
   "outputs": [],
   "source": [
    "encoder = OneHotEncoder()\n",
    "train_labels_oh = encoder.fit_transform(train_labels.reshape(-1, 1)).toarray()\n",
    "test_labels_oh = encoder.fit_transform(test_labels.reshape(-1, 1)).toarray()"
   ]
  },
  {
   "cell_type": "code",
   "execution_count": 6,
   "id": "b5db235d",
   "metadata": {},
   "outputs": [],
   "source": [
    "def circuit_parameters(encoding, ansatz, x, thetas, self_encoding=False):\n",
    "    parameters = {}\n",
    "    if self_encoding:\n",
    "        for i, p in enumerate(list(encoding.parameters)):\n",
    "            parameters[p] = x[i]\n",
    "    else:\n",
    "        for i, p in enumerate(list(encoding.ordered_parameters)):\n",
    "            parameters[p] = x[i]\n",
    "    for i, p in enumerate(ansatz.ordered_parameters):\n",
    "        parameters[p] = thetas[i]\n",
    "    return parameters"
   ]
  },
  {
   "cell_type": "code",
   "execution_count": 7,
   "id": "f51a80e1",
   "metadata": {},
   "outputs": [],
   "source": [
    "def cost_function(qc, encoding, ansatz, X, Y, thetas, self_encoding=False):\n",
    "    #thetas -> variational parameters\n",
    "    #X dataset\n",
    "    #Y labels\n",
    "\n",
    "    #build circuits for each datapoint\n",
    "    circuits = [qc.assign_parameters(circuit_parameters(encoding, ansatz, x, thetas, self_encoding=self_encoding)) for x in X]\n",
    "\n",
    "    backend = Aer.get_backend('qasm_simulator')\n",
    "    results =  execute(circuits, backend).result()\n",
    "\n",
    "    predictions = [classification(results.get_counts(c)) for c in circuits]\n",
    "\n",
    "    cost = -np.mean(np.array([loss_function(y,y_hat) for (y,y_hat) in zip(Y, predictions)]))\n",
    "\n",
    "    return cost"
   ]
  },
  {
   "cell_type": "code",
   "execution_count": 8,
   "id": "819b3417",
   "metadata": {},
   "outputs": [
    {
     "name": "stdout",
     "output_type": "stream",
     "text": [
      "skipping\n"
     ]
    }
   ],
   "source": [
    "%%script echo skipping\n",
    "def classification(counts, shots=1024):\n",
    "    probs = np.zeros(2)\n",
    "    for bitstring, counts in counts.items():\n",
    "        hw_parity = hamming_weight_parity(bitstring)\n",
    "        probs[hw_parity] += counts/shots\n",
    "    \n",
    "    return probs\n",
    "def hamming_weight_parity(bitstring):\n",
    "    hamming_weight = sum([int(k) for k in bitstring])\n",
    "    return hamming_weight % 2\n",
    "\n",
    "def loss_function(y,y_hat):\n",
    "    print(y_hat)\n",
    "    return np.sum(y*np.log(y_hat))"
   ]
  },
  {
   "cell_type": "code",
   "execution_count": 9,
   "id": "b9836476",
   "metadata": {},
   "outputs": [],
   "source": [
    "#%%script echo skipping\n",
    "def basis_states_probs(counts, shots=1024, decimal=False, n_qubits=1):\n",
    "    \n",
    "    \"\"\"\n",
    "    Retorna as probabilidades de cada estado\n",
    "    \"\"\"\n",
    "    \n",
    "    probs = []\n",
    "   \n",
    "    if decimal:\n",
    "        basis_states = list(range(2**n_qubits))\n",
    "    else:\n",
    "        basis_states = [np.binary_repr(i,width=n_qubits) for i in range(2**n_qubits)]\n",
    "\n",
    "    for b in basis_states:\n",
    "        c = counts.get(b)\n",
    "        if c is None:\n",
    "            probs.append(0)\n",
    "        else:\n",
    "            probs.append(counts[b]/shots)\n",
    "    \n",
    "    return probs\n",
    "\n",
    "\n",
    "def classification(counts, shots=1024, label=True):\n",
    "    \n",
    "    def count_ones(string):\n",
    "        r = 0\n",
    "        for char in string:\n",
    "            if char == \"1\":\n",
    "                r+=1\n",
    "        return r\n",
    "    \n",
    "    def label_assign(exp_val):\n",
    "        if exp_val >= 0:\n",
    "            r = 1\n",
    "        else:\n",
    "            r = -1\n",
    "        return r\n",
    "\n",
    "    probs = basis_states_probs(counts, n_qubits=n_qubits)\n",
    "    states = [\"\".join(seq) for seq in itr.product(\"01\", repeat=n_qubits)]\n",
    "    \n",
    "    exp_val = 0\n",
    "    for state, prob in zip(states, probs):\n",
    "        #print(prob, state)\n",
    "        exp_val += ((-1)**(count_ones(state)%2))*prob\n",
    "    \n",
    "    if label:\n",
    "        return label_assign(exp_val)\n",
    "    else:\n",
    "        return exp_val\n",
    "    \n",
    "def loss_function(y,y_hat):\n",
    "    \n",
    "    return y-y_hat"
   ]
  },
  {
   "cell_type": "code",
   "execution_count": 10,
   "id": "575809de",
   "metadata": {},
   "outputs": [],
   "source": [
    "\n",
    "def train(qc, encoding, ansatz, train_data, train_labels, self_encoding=False, lr=None, initial_point=None):\n",
    "        # Callback function for optimiser for plotting purposes\n",
    "        def store_intermediate_result(evaluation, parameter, cost, \n",
    "                                stepsize, accept):\n",
    "                evaluations.append(evaluation)\n",
    "                parameters.append(parameter)\n",
    "                costs.append(cost)\n",
    "\n",
    "        # Set up the optimization\n",
    "\n",
    "        parameters = []\n",
    "        costs = []\n",
    "        evaluations = []\n",
    "\n",
    "        if lr is not None:\n",
    "                optimizer = SPSA(maxiter=100 , learning_rate=lr, callback=store_intermediate_result)\n",
    "        else:\n",
    "                optimizer = SPSA(maxiter=100, callback=store_intermediate_result)\n",
    "\n",
    "        if initial_point is not None:\n",
    "                initial_point = initial_point\n",
    "        else:      \n",
    "                initial_point = np.random.random(ansatz.num_parameters)\n",
    "\n",
    "        objective_function = lambda variational: cost_function(qc,encoding, ansatz,\n",
    "                train_data, train_labels, variational, self_encoding=self_encoding)\n",
    "\n",
    "        # Run the optimization\n",
    "        opt_var, opt_value, _ = optimizer.optimize(len(initial_point), objective_function, initial_point=initial_point)\n",
    "\n",
    "        return opt_var, opt_value , parameters, costs, evaluations "
   ]
  },
  {
   "cell_type": "code",
   "execution_count": null,
   "id": "43bd4577",
   "metadata": {},
   "outputs": [],
   "source": [
    "opt_var, opt_value , parameters, costs, evaluations = train(qc, encoding, ansatz, train_data, train_labels_oh, self_encoding=True)"
   ]
  },
  {
   "cell_type": "code",
   "execution_count": null,
   "id": "20dd212a",
   "metadata": {},
   "outputs": [],
   "source": [
    "fig = plt.figure()\n",
    "plt.plot(evaluations, costs)\n",
    "plt.xlabel('Steps')\n",
    "plt.ylabel('Cost')\n",
    "plt.title(\"cost function during training\")\n",
    "plt.show()"
   ]
  },
  {
   "cell_type": "code",
   "execution_count": null,
   "id": "ad4ded1b",
   "metadata": {},
   "outputs": [],
   "source": [
    "def accuracy(data, labels, thetas, self_encoding=False):\n",
    "    circuits = [qc.assign_parameters(circuit_parameters(encoding, ansatz, x, thetas, self_encoding=self_encoding)) for x in data]\n",
    "\n",
    "    backend = Aer.get_backend('qasm_simulator')\n",
    "    results =  execute(circuits, backend).result()\n",
    "\n",
    "    probs = [classification(results.get_counts(c)) for c in circuits]\n",
    "\n",
    "    prediction = [0 if p[0] > p[1] else 1 for p in probs]\n",
    "    accuracy = 0\n",
    "    for i, p in enumerate(prediction):\n",
    "        if (p and labels[i]) or (not p and not labels[i]):\n",
    "            accuracy += 1\n",
    "    accuracy /= len(labels)\n",
    "    return accuracy, prediction"
   ]
  },
  {
   "cell_type": "code",
   "execution_count": null,
   "id": "21a9f302",
   "metadata": {},
   "outputs": [],
   "source": [
    "accuracy, prediction = accuracy(test_data, test_labels, opt_var, self_encoding=True)\n",
    "print(\"Test set accuracy - {}\".format(accuracy))"
   ]
  },
  {
   "cell_type": "code",
   "execution_count": null,
   "id": "792e860b",
   "metadata": {},
   "outputs": [],
   "source": []
  }
 ],
 "metadata": {
  "kernelspec": {
   "display_name": "Python 3 (ipykernel)",
   "language": "python",
   "name": "python3"
  },
  "language_info": {
   "codemirror_mode": {
    "name": "ipython",
    "version": 3
   },
   "file_extension": ".py",
   "mimetype": "text/x-python",
   "name": "python",
   "nbconvert_exporter": "python",
   "pygments_lexer": "ipython3",
   "version": "3.8.10"
  }
 },
 "nbformat": 4,
 "nbformat_minor": 5
}
