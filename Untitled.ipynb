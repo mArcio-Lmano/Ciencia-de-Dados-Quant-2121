{
 "cells": [
  {
   "cell_type": "markdown",
   "id": "06cd5f03",
   "metadata": {},
   "source": [
    "# Classificador  Binário"
   ]
  },
  {
   "cell_type": "markdown",
   "id": "b660fcf0",
   "metadata": {},
   "source": [
    "### Imports"
   ]
  },
  {
   "cell_type": "code",
   "execution_count": 1,
   "id": "014ab508",
   "metadata": {},
   "outputs": [],
   "source": [
    "from qiskit import QuantumCircuit, ClassicalRegister, QuantumRegister, Aer, execute, transpile, assemble\n",
    "from qiskit.circuit import Parameter,ParameterVector\n",
    "from qiskit.visualization import plot_histogram\n",
    "from qiskit.circuit.library import EfficientSU2\n",
    "import matplotlib.pyplot as plt\n",
    "import numpy as np"
   ]
  },
  {
   "cell_type": "markdown",
   "id": "8ea5fa12",
   "metadata": {},
   "source": [
    "## Sampling e normalizacao para o amplitude encoding sao feito em scripts separados"
   ]
  },
  {
   "cell_type": "markdown",
   "id": "2cb444e1",
   "metadata": {},
   "source": [
    "### Important Functions"
   ]
  },
  {
   "cell_type": "code",
   "execution_count": 2,
   "id": "31d5290a",
   "metadata": {},
   "outputs": [],
   "source": [
    "def get_encode(file, type_ENC):\n",
    "\n",
    "    \"\"\"\n",
    "    Funcao responsavel pelo encoding\n",
    "    \"\"\"\n",
    "    if type_ENC.lower() == \"amplitude\":\n",
    "\n",
    "        data_ENC = np.genfromtxt(file, delimiter=\";\")\n",
    "\n",
    "    else:\n",
    "        return None\n",
    "\n",
    "    return data_ENC\n",
    "\n",
    "def execute_circuit(qc, shots=1024, device=None, decimal=False):\n",
    "    if device is None:\n",
    "        device = Aer.get_backend('qasm_simulator')\n",
    "    else:\n",
    "        device = device\n",
    "    \n",
    "    circ_trans = transpile(qc,device)\n",
    "    qobj = assemble(circ_trans)\n",
    "    counts = device.run(qobj, shots=shots).result().get_counts()\n",
    "    \n",
    "    if decimal:\n",
    "        counts = dict((int(a[::-1],2),b) for (a,b) in counts.items())\n",
    "    else:\n",
    "        counts = dict((a[::-1],b) for (a,b) in counts.items())\n",
    "\n",
    "    return counts\n",
    "\n",
    "def basis_states_probs(counts, shots=1024, decimal=False, n_qubits=1):\n",
    "    probs = []\n",
    "   \n",
    "    if decimal:\n",
    "        basis_states = list(range(2**n_qubits))\n",
    "    else:\n",
    "        basis_states = [np.binary_repr(i,width=n_qubits) for i in range(2**n_qubits)]\n",
    "\n",
    "    for b in basis_states:\n",
    "        c = counts.get(b)\n",
    "        if c is None:\n",
    "            probs.append(0)\n",
    "        else:\n",
    "            probs.append(counts[b]/shots)\n",
    "    \n",
    "    return probs"
   ]
  },
  {
   "cell_type": "markdown",
   "id": "cdc90acd",
   "metadata": {},
   "source": [
    "### Three Main Blocks of our classifier"
   ]
  },
  {
   "cell_type": "code",
   "execution_count": 3,
   "id": "ce2b245c",
   "metadata": {},
   "outputs": [],
   "source": [
    "def Embedding(x=None, n_qubits=1):\n",
    "\n",
    "    qc = QuantumCircuit(n_qubits,name=\"S(x)\")\n",
    "\n",
    "    if x is not None:\n",
    "        qc.initialize(x)\n",
    "\n",
    "    return qc.to_instruction()\n",
    "\n",
    "def Ansatz(theta=None, n_qubits=1):\n",
    "\n",
    "    qc = QuantumCircuit(n_qubits,name=\"U($\\theta$)\")\n",
    "\n",
    "    if theta is not None:\n",
    "        qc.append(EfficientSU2(n_qubits, entanglement='full', reps=1, insert_barriers=True), range(n_qubits))\n",
    "    \n",
    "    return qc.to_instruction()\n",
    "\n",
    "def Measurement(qc, n_qubits=1):\n",
    "\n",
    "    qc.measure_all()\n",
    "    ### change me at your will ###\n",
    "    \n",
    "    return qc"
   ]
  },
  {
   "cell_type": "code",
   "execution_count": 4,
   "id": "c12a274c",
   "metadata": {},
   "outputs": [
    {
     "ename": "MissingOptionalLibraryError",
     "evalue": "\"The 'pdflatex' library is required to use 'LaTeX circuit drawing'.  You will likely need to install a full LaTeX distribution for your system.\"",
     "output_type": "error",
     "traceback": [
      "\u001b[1;31m---------------------------------------------------------------------------\u001b[0m",
      "\u001b[1;31mMissingOptionalLibraryError\u001b[0m               Traceback (most recent call last)",
      "\u001b[1;32m~\\AppData\\Local\\Temp/ipykernel_16944/3747277964.py\u001b[0m in \u001b[0;36m<module>\u001b[1;34m\u001b[0m\n\u001b[0;32m      8\u001b[0m \u001b[0mqc\u001b[0m\u001b[1;33m.\u001b[0m\u001b[0mappend\u001b[0m\u001b[1;33m(\u001b[0m\u001b[0mAnsatz\u001b[0m\u001b[1;33m(\u001b[0m\u001b[1;34m\"teste\"\u001b[0m\u001b[1;33m,\u001b[0m\u001b[1;36m4\u001b[0m\u001b[1;33m)\u001b[0m\u001b[1;33m,\u001b[0m \u001b[0mrange\u001b[0m\u001b[1;33m(\u001b[0m\u001b[1;36m4\u001b[0m\u001b[1;33m)\u001b[0m\u001b[1;33m)\u001b[0m\u001b[1;33m\u001b[0m\u001b[1;33m\u001b[0m\u001b[0m\n\u001b[0;32m      9\u001b[0m \u001b[0mMeasurement\u001b[0m\u001b[1;33m(\u001b[0m\u001b[0mqc\u001b[0m\u001b[1;33m,\u001b[0m \u001b[1;36m4\u001b[0m\u001b[1;33m)\u001b[0m\u001b[1;33m\u001b[0m\u001b[1;33m\u001b[0m\u001b[0m\n\u001b[1;32m---> 10\u001b[1;33m \u001b[0mqc\u001b[0m\u001b[1;33m.\u001b[0m\u001b[0mdraw\u001b[0m\u001b[1;33m(\u001b[0m\u001b[0moutput\u001b[0m\u001b[1;33m=\u001b[0m\u001b[1;34m\"latex\"\u001b[0m\u001b[1;33m)\u001b[0m\u001b[1;33m\u001b[0m\u001b[1;33m\u001b[0m\u001b[0m\n\u001b[0m",
      "\u001b[1;32m~\\AppData\\Local\\Programs\\Python\\Python39\\lib\\site-packages\\qiskit\\circuit\\quantumcircuit.py\u001b[0m in \u001b[0;36mdraw\u001b[1;34m(self, output, scale, filename, style, interactive, plot_barriers, reverse_bits, justify, vertical_compression, idle_wires, with_layout, fold, ax, initial_state, cregbundle)\u001b[0m\n\u001b[0;32m   1865\u001b[0m         \u001b[1;32mfrom\u001b[0m \u001b[0mqiskit\u001b[0m\u001b[1;33m.\u001b[0m\u001b[0mvisualization\u001b[0m \u001b[1;32mimport\u001b[0m \u001b[0mcircuit_drawer\u001b[0m\u001b[1;33m\u001b[0m\u001b[1;33m\u001b[0m\u001b[0m\n\u001b[0;32m   1866\u001b[0m \u001b[1;33m\u001b[0m\u001b[0m\n\u001b[1;32m-> 1867\u001b[1;33m         return circuit_drawer(\n\u001b[0m\u001b[0;32m   1868\u001b[0m             \u001b[0mself\u001b[0m\u001b[1;33m,\u001b[0m\u001b[1;33m\u001b[0m\u001b[1;33m\u001b[0m\u001b[0m\n\u001b[0;32m   1869\u001b[0m             \u001b[0mscale\u001b[0m\u001b[1;33m=\u001b[0m\u001b[0mscale\u001b[0m\u001b[1;33m,\u001b[0m\u001b[1;33m\u001b[0m\u001b[1;33m\u001b[0m\u001b[0m\n",
      "\u001b[1;32m~\\AppData\\Local\\Programs\\Python\\Python39\\lib\\site-packages\\qiskit\\visualization\\circuit_visualization.py\u001b[0m in \u001b[0;36mcircuit_drawer\u001b[1;34m(circuit, scale, filename, style, output, interactive, plot_barriers, reverse_bits, justify, vertical_compression, idle_wires, with_layout, fold, ax, initial_state, cregbundle)\u001b[0m\n\u001b[0;32m    254\u001b[0m         )\n\u001b[0;32m    255\u001b[0m     \u001b[1;32melif\u001b[0m \u001b[0moutput\u001b[0m \u001b[1;33m==\u001b[0m \u001b[1;34m\"latex\"\u001b[0m\u001b[1;33m:\u001b[0m\u001b[1;33m\u001b[0m\u001b[1;33m\u001b[0m\u001b[0m\n\u001b[1;32m--> 256\u001b[1;33m         image = _latex_circuit_drawer(\n\u001b[0m\u001b[0;32m    257\u001b[0m             \u001b[0mcircuit\u001b[0m\u001b[1;33m,\u001b[0m\u001b[1;33m\u001b[0m\u001b[1;33m\u001b[0m\u001b[0m\n\u001b[0;32m    258\u001b[0m             \u001b[0mfilename\u001b[0m\u001b[1;33m=\u001b[0m\u001b[0mfilename\u001b[0m\u001b[1;33m,\u001b[0m\u001b[1;33m\u001b[0m\u001b[1;33m\u001b[0m\u001b[0m\n",
      "\u001b[1;32m~\\AppData\\Local\\Programs\\Python\\Python39\\lib\\site-packages\\qiskit\\visualization\\circuit_visualization.py\u001b[0m in \u001b[0;36m_latex_circuit_drawer\u001b[1;34m(circuit, scale, style, filename, plot_barriers, reverse_bits, justify, idle_wires, with_layout, initial_state, cregbundle)\u001b[0m\n\u001b[0;32m    455\u001b[0m         )\n\u001b[0;32m    456\u001b[0m         \u001b[1;32mif\u001b[0m \u001b[1;32mnot\u001b[0m \u001b[0mHAS_PDFLATEX\u001b[0m\u001b[1;33m:\u001b[0m\u001b[1;33m\u001b[0m\u001b[1;33m\u001b[0m\u001b[0m\n\u001b[1;32m--> 457\u001b[1;33m             raise MissingOptionalLibraryError(\n\u001b[0m\u001b[0;32m    458\u001b[0m                 \u001b[0mlibname\u001b[0m\u001b[1;33m=\u001b[0m\u001b[1;34m\"pdflatex\"\u001b[0m\u001b[1;33m,\u001b[0m\u001b[1;33m\u001b[0m\u001b[1;33m\u001b[0m\u001b[0m\n\u001b[0;32m    459\u001b[0m                 \u001b[0mname\u001b[0m\u001b[1;33m=\u001b[0m\u001b[1;34m\"LaTeX circuit drawing\"\u001b[0m\u001b[1;33m,\u001b[0m\u001b[1;33m\u001b[0m\u001b[1;33m\u001b[0m\u001b[0m\n",
      "\u001b[1;31mMissingOptionalLibraryError\u001b[0m: \"The 'pdflatex' library is required to use 'LaTeX circuit drawing'.  You will likely need to install a full LaTeX distribution for your system.\""
     ]
    }
   ],
   "source": [
    "DIR = \"Encode_data/amp_enc_data_set_training.csv\"\n",
    "\n",
    "data = get_encode(DIR, \"amplitude\")\n",
    "data_point = data[0]\n",
    "\n",
    "qc = QuantumCircuit(4)\n",
    "qc.append(Embedding(data_point, n_qubits=4), range(4))\n",
    "qc.append(Ansatz(\"teste\",4), range(4))\n",
    "Measurement(qc, 4)\n",
    "qc.draw(output=\"latex\")\n"
   ]
  }
 ],
 "metadata": {
  "kernelspec": {
   "display_name": "Python 3 (ipykernel)",
   "language": "python",
   "name": "python3"
  },
  "language_info": {
   "codemirror_mode": {
    "name": "ipython",
    "version": 3
   },
   "file_extension": ".py",
   "mimetype": "text/x-python",
   "name": "python",
   "nbconvert_exporter": "python",
   "pygments_lexer": "ipython3",
   "version": "3.9.7"
  }
 },
 "nbformat": 4,
 "nbformat_minor": 5
}
