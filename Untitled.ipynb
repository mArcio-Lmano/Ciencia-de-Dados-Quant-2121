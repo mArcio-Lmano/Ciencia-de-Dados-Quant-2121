{
 "cells": [
  {
   "cell_type": "markdown",
   "id": "06cd5f03",
   "metadata": {},
   "source": [
    "# Classificador  Binário"
   ]
  },
  {
   "cell_type": "markdown",
   "id": "b660fcf0",
   "metadata": {},
   "source": [
    "### Imports"
   ]
  },
  {
   "cell_type": "code",
   "execution_count": 1,
   "id": "014ab508",
   "metadata": {},
   "outputs": [],
   "source": [
    "from qiskit import QuantumCircuit, ClassicalRegister, QuantumRegister, Aer, execute, transpile, assemble\n",
    "from qiskit.circuit import Parameter,ParameterVector\n",
    "from qiskit.visualization import plot_histogram\n",
    "from qiskit.circuit.library import EfficientSU2\n",
    "import numpy as np\n",
    "import itertools as itr\n",
    "import matplotlib.pyplot as plt\n",
    "\n",
    "DIR = \"Encode_data/amp_enc_data_set_training.csv\""
   ]
  },
  {
   "cell_type": "markdown",
   "id": "8ea5fa12",
   "metadata": {},
   "source": [
    "## Sampling e normalizacao para o amplitude encoding sao feito em scripts separados"
   ]
  },
  {
   "cell_type": "markdown",
   "id": "2cb444e1",
   "metadata": {},
   "source": [
    "### Important Functions"
   ]
  },
  {
   "cell_type": "code",
   "execution_count": 2,
   "id": "31d5290a",
   "metadata": {},
   "outputs": [],
   "source": [
    "def get_encode(file, type_ENC):\n",
    "\n",
    "    \"\"\"\n",
    "    Funcao responsavel pelo encoding (amplitude)\n",
    "    \"\"\"\n",
    "    if type_ENC.lower() == \"amplitude\":\n",
    "\n",
    "        data_ENC = np.genfromtxt(file, delimiter=\";\")\n",
    "\n",
    "    else:\n",
    "        return None\n",
    "\n",
    "    return data_ENC\n",
    "\n",
    "def execute_circuit(qc, shots=1024, device=None, decimal=False):\n",
    "    \n",
    "    \"\"\"\n",
    "    Executa o nosso circuito\n",
    "    \"\"\"\n",
    "    \n",
    "    if device is None:\n",
    "        device = Aer.get_backend('qasm_simulator')\n",
    "    else:\n",
    "        device = device\n",
    "    \n",
    "    circ_trans = transpile(qc,device)\n",
    "    qobj = assemble(circ_trans)\n",
    "    counts = device.run(qobj, shots=shots).result().get_counts()\n",
    "    \n",
    "    if decimal:\n",
    "        counts = dict((int(a[::-1],2),b) for (a,b) in counts.items())\n",
    "    else:\n",
    "        counts = dict((a[::-1],b) for (a,b) in counts.items())\n",
    "\n",
    "    return counts\n",
    "\n",
    "def basis_states_probs(counts, shots=1024, decimal=False, n_qubits=1):\n",
    "    \n",
    "    \"\"\"\n",
    "    Retorna as probabilidades de cada estado\n",
    "    \"\"\"\n",
    "    \n",
    "    probs = []\n",
    "   \n",
    "    if decimal:\n",
    "        basis_states = list(range(2**n_qubits))\n",
    "    else:\n",
    "        basis_states = [np.binary_repr(i,width=n_qubits) for i in range(2**n_qubits)]\n",
    "\n",
    "    for b in basis_states:\n",
    "        c = counts.get(b)\n",
    "        if c is None:\n",
    "            probs.append(0)\n",
    "        else:\n",
    "            probs.append(counts[b]/shots)\n",
    "    \n",
    "    return probs\n",
    "\n",
    "def sigma_z_expval(qc,n_qubits=1):\n",
    "    \n",
    "    def count_ones(string):\n",
    "        r = 0\n",
    "        for char in string:\n",
    "            if char == \"1\":\n",
    "                r+=1\n",
    "        return r\n",
    "    \n",
    "    counts = execute_circuit(qc)\n",
    "    probs = basis_states_probs(counts, n_qubits=n_qubits)\n",
    "    states = [\"\".join(seq) for seq in itr.product(\"01\", repeat=n_qubits)]\n",
    "    \n",
    "    exp_val = 0\n",
    "    for state, prob in zip(states, probs):\n",
    "        #print(prob, state)\n",
    "        exp_val += ((-1)**(count_ones(state)%2))*prob\n",
    "    \n",
    "    return exp_val"
   ]
  },
  {
   "cell_type": "markdown",
   "id": "cdc90acd",
   "metadata": {},
   "source": [
    "### Three Main Blocks of our classifier"
   ]
  },
  {
   "cell_type": "code",
   "execution_count": 3,
   "id": "ce2b245c",
   "metadata": {},
   "outputs": [],
   "source": [
    "def Embedding(x=None, n_qubits=1):\n",
    "\n",
    "    qc = QuantumCircuit(n_qubits,name=\"S(x)\")\n",
    "\n",
    "    if x is not None:\n",
    "        qc.initialize(x)\n",
    "\n",
    "    return qc.to_instruction()\n",
    "\n",
    "def Ansatz(theta=None, n_qubits=1):\n",
    "\n",
    "    qc = QuantumCircuit(n_qubits,name=\"U(\\u03B8)\")\n",
    "\n",
    "    if theta is not None:\n",
    "        r = EfficientSU2(n_qubits, entanglement='full', reps=1, insert_barriers=True, name=\"U(\\u03B8)\")\n",
    "        r.assign_parameters(theta)\n",
    "        return r.to_instruction()\n",
    "    \n",
    "    else:\n",
    "        qc.compose(EfficientSU2(n_qubits, entanglement='full', reps=1, insert_barriers=True))\n",
    "        return qc.to_instruction()\n",
    "\n",
    "def Measurement(qc, n_qubits=1):\n",
    "    \n",
    "    qc.measure_all()\n",
    "    \n",
    "    return qc"
   ]
  },
  {
   "cell_type": "markdown",
   "id": "7bb4146c",
   "metadata": {},
   "source": [
    "## Circuito exemplo\n",
    "\n",
    "Usando 1 data point para inicializar o nosso encoding, mostramos tambem como medir e qual o valor expectavel na base computacional deste circuito"
   ]
  },
  {
   "cell_type": "code",
   "execution_count": 11,
   "id": "c12a274c",
   "metadata": {
    "scrolled": true
   },
   "outputs": [
    {
     "data": {
      "text/html": [
       "<pre style=\"word-wrap: normal;white-space: pre;background: #fff0;line-height: 1.1;font-family: &quot;Courier New&quot;,Courier,monospace\">        ┌───────┐┌───────┐ ░ ┌─┐         \n",
       "   q_0: ┤0      ├┤0      ├─░─┤M├─────────\n",
       "        │       ││       │ ░ └╥┘┌─┐      \n",
       "   q_1: ┤1      ├┤1      ├─░──╫─┤M├──────\n",
       "        │  S(x) ││  U(θ) │ ░  ║ └╥┘┌─┐   \n",
       "   q_2: ┤2      ├┤2      ├─░──╫──╫─┤M├───\n",
       "        │       ││       │ ░  ║  ║ └╥┘┌─┐\n",
       "   q_3: ┤3      ├┤3      ├─░──╫──╫──╫─┤M├\n",
       "        └───────┘└───────┘ ░  ║  ║  ║ └╥┘\n",
       "meas: 4/══════════════════════╩══╩══╩══╩═\n",
       "                              0  1  2  3 </pre>"
      ],
      "text/plain": [
       "        ┌───────┐┌───────┐ ░ ┌─┐         \n",
       "   q_0: ┤0      ├┤0      ├─░─┤M├─────────\n",
       "        │       ││       │ ░ └╥┘┌─┐      \n",
       "   q_1: ┤1      ├┤1      ├─░──╫─┤M├──────\n",
       "        │  S(x) ││  U(θ) │ ░  ║ └╥┘┌─┐   \n",
       "   q_2: ┤2      ├┤2      ├─░──╫──╫─┤M├───\n",
       "        │       ││       │ ░  ║  ║ └╥┘┌─┐\n",
       "   q_3: ┤3      ├┤3      ├─░──╫──╫──╫─┤M├\n",
       "        └───────┘└───────┘ ░  ║  ║  ║ └╥┘\n",
       "meas: 4/══════════════════════╩══╩══╩══╩═\n",
       "                              0  1  2  3 "
      ]
     },
     "execution_count": 11,
     "metadata": {},
     "output_type": "execute_result"
    }
   ],
   "source": [
    "%%script echo skipping\n",
    "\n",
    "data = get_encode(DIR, \"amplitude\")\n",
    "data_point = data[0]\n",
    "\n",
    "qc = QuantumCircuit(4)\n",
    "qc.compose(Embedding(data_point, n_qubits=4), inplace=True)\n",
    "\n",
    "##print(Ansatz(\"teste\",4))\n",
    "qc.compose(Ansatz(n_qubits=4), inplace=True)\n",
    "Measurement(qc, 4)\n",
    "qc.draw(output=\"text\")"
   ]
  },
  {
   "cell_type": "code",
   "execution_count": 5,
   "id": "84a3ccad",
   "metadata": {
    "scrolled": true
   },
   "outputs": [
    {
     "name": "stdout",
     "output_type": "stream",
     "text": [
      "skipping\n"
     ]
    }
   ],
   "source": [
    "%%script echo skipping\n",
    "\n",
    "counts = execute_circuit(qc)\n",
    "probs = basis_states_probs(counts, n_qubits=4)\n",
    "plot_histogram(counts)"
   ]
  },
  {
   "cell_type": "code",
   "execution_count": 6,
   "id": "8fd7d487",
   "metadata": {},
   "outputs": [
    {
     "name": "stdout",
     "output_type": "stream",
     "text": [
      "skipping\n"
     ]
    }
   ],
   "source": [
    "%%script echo skipping\n",
    "\n",
    "exp_z_val = sigma_z_expval(qc, n_qubits=4)\n",
    "print(\"Valor Expectavel: \", exp_z_val)"
   ]
  },
  {
   "cell_type": "markdown",
   "id": "750a1a62",
   "metadata": {},
   "source": [
    "## Trainning Loop\n",
    "\n",
    "- Descobrir como defenir o $\\theta$"
   ]
  },
  {
   "cell_type": "code",
   "execution_count": 28,
   "id": "b3a59eab",
   "metadata": {},
   "outputs": [],
   "source": [
    "def trainning_loop(DIR, n_qubits=4):\n",
    "    \n",
    "    theta = ParameterVector(\"\\u03B8\", 16)\n",
    "    print(list (theta))\n",
    "    data_set = get_encode(DIR, \"amplitude\") \n",
    "    for data_point in data_set:\n",
    "        qc = QuantumCircuit(4)\n",
    "        qc.compose(Embedding(data_point, n_qubits=4), inplace=True)\n",
    "        qc.compose(Ansatz(list(theta),n_qubits=4), inplace=True)\n",
    "        Measurement(qc)\n",
    "        exp_z_val = sigma_z_expval(qc, n_qubits=4)\n",
    "        print(\"Valor Expectavel: \", exp_z_val)"
   ]
  },
  {
   "cell_type": "code",
   "execution_count": 29,
   "id": "d629966f",
   "metadata": {},
   "outputs": [
    {
     "name": "stdout",
     "output_type": "stream",
     "text": [
      "[ParameterVectorElement(θ[0]), ParameterVectorElement(θ[1]), ParameterVectorElement(θ[2]), ParameterVectorElement(θ[3]), ParameterVectorElement(θ[4]), ParameterVectorElement(θ[5]), ParameterVectorElement(θ[6]), ParameterVectorElement(θ[7]), ParameterVectorElement(θ[8]), ParameterVectorElement(θ[9]), ParameterVectorElement(θ[10]), ParameterVectorElement(θ[11]), ParameterVectorElement(θ[12]), ParameterVectorElement(θ[13]), ParameterVectorElement(θ[14]), ParameterVectorElement(θ[15])]\n"
     ]
    },
    {
     "ename": "QiskitError",
     "evalue": "'Mismatch between run_config.parameter_binds and all circuit parameters. Parameter binds: [] Circuit parameters: [ParameterView([ParameterVectorElement(θ[0]), ParameterVectorElement(θ[1]), ParameterVectorElement(θ[2]), ParameterVectorElement(θ[3]), ParameterVectorElement(θ[4]), ParameterVectorElement(θ[5]), ParameterVectorElement(θ[6]), ParameterVectorElement(θ[7]), ParameterVectorElement(θ[8]), ParameterVectorElement(θ[9]), ParameterVectorElement(θ[10]), ParameterVectorElement(θ[11]), ParameterVectorElement(θ[12]), ParameterVectorElement(θ[13]), ParameterVectorElement(θ[14]), ParameterVectorElement(θ[15])])]'",
     "output_type": "error",
     "traceback": [
      "\u001b[0;31m---------------------------------------------------------------------------\u001b[0m",
      "\u001b[0;31mQiskitError\u001b[0m                               Traceback (most recent call last)",
      "Input \u001b[0;32mIn [29]\u001b[0m, in \u001b[0;36m<module>\u001b[0;34m\u001b[0m\n\u001b[0;32m----> 1\u001b[0m \u001b[43mtrainning_loop\u001b[49m\u001b[43m(\u001b[49m\u001b[43mDIR\u001b[49m\u001b[43m)\u001b[49m\n",
      "Input \u001b[0;32mIn [28]\u001b[0m, in \u001b[0;36mtrainning_loop\u001b[0;34m(DIR, n_qubits)\u001b[0m\n\u001b[1;32m      9\u001b[0m qc\u001b[38;5;241m.\u001b[39mcompose(Ansatz(\u001b[38;5;28mlist\u001b[39m(theta),n_qubits\u001b[38;5;241m=\u001b[39m\u001b[38;5;241m4\u001b[39m), inplace\u001b[38;5;241m=\u001b[39m\u001b[38;5;28;01mTrue\u001b[39;00m)\n\u001b[1;32m     10\u001b[0m Measurement(qc)\n\u001b[0;32m---> 11\u001b[0m exp_z_val \u001b[38;5;241m=\u001b[39m \u001b[43msigma_z_expval\u001b[49m\u001b[43m(\u001b[49m\u001b[43mqc\u001b[49m\u001b[43m,\u001b[49m\u001b[43m \u001b[49m\u001b[43mn_qubits\u001b[49m\u001b[38;5;241;43m=\u001b[39;49m\u001b[38;5;241;43m4\u001b[39;49m\u001b[43m)\u001b[49m\n\u001b[1;32m     12\u001b[0m \u001b[38;5;28mprint\u001b[39m(\u001b[38;5;124m\"\u001b[39m\u001b[38;5;124mValor Expectavel: \u001b[39m\u001b[38;5;124m\"\u001b[39m, exp_z_val)\n",
      "Input \u001b[0;32mIn [2]\u001b[0m, in \u001b[0;36msigma_z_expval\u001b[0;34m(qc, n_qubits)\u001b[0m\n\u001b[1;32m     65\u001b[0m             r\u001b[38;5;241m+\u001b[39m\u001b[38;5;241m=\u001b[39m\u001b[38;5;241m1\u001b[39m\n\u001b[1;32m     66\u001b[0m     \u001b[38;5;28;01mreturn\u001b[39;00m r\n\u001b[0;32m---> 68\u001b[0m counts \u001b[38;5;241m=\u001b[39m \u001b[43mexecute_circuit\u001b[49m\u001b[43m(\u001b[49m\u001b[43mqc\u001b[49m\u001b[43m)\u001b[49m\n\u001b[1;32m     69\u001b[0m probs \u001b[38;5;241m=\u001b[39m basis_states_probs(counts, n_qubits\u001b[38;5;241m=\u001b[39mn_qubits)\n\u001b[1;32m     70\u001b[0m states \u001b[38;5;241m=\u001b[39m [\u001b[38;5;124m\"\u001b[39m\u001b[38;5;124m\"\u001b[39m\u001b[38;5;241m.\u001b[39mjoin(seq) \u001b[38;5;28;01mfor\u001b[39;00m seq \u001b[38;5;129;01min\u001b[39;00m itr\u001b[38;5;241m.\u001b[39mproduct(\u001b[38;5;124m\"\u001b[39m\u001b[38;5;124m01\u001b[39m\u001b[38;5;124m\"\u001b[39m, repeat\u001b[38;5;241m=\u001b[39mn_qubits)]\n",
      "Input \u001b[0;32mIn [2]\u001b[0m, in \u001b[0;36mexecute_circuit\u001b[0;34m(qc, shots, device, decimal)\u001b[0m\n\u001b[1;32m     24\u001b[0m     device \u001b[38;5;241m=\u001b[39m device\n\u001b[1;32m     26\u001b[0m circ_trans \u001b[38;5;241m=\u001b[39m transpile(qc,device)\n\u001b[0;32m---> 27\u001b[0m qobj \u001b[38;5;241m=\u001b[39m \u001b[43massemble\u001b[49m\u001b[43m(\u001b[49m\u001b[43mcirc_trans\u001b[49m\u001b[43m)\u001b[49m\n\u001b[1;32m     28\u001b[0m counts \u001b[38;5;241m=\u001b[39m device\u001b[38;5;241m.\u001b[39mrun(qobj, shots\u001b[38;5;241m=\u001b[39mshots)\u001b[38;5;241m.\u001b[39mresult()\u001b[38;5;241m.\u001b[39mget_counts()\n\u001b[1;32m     30\u001b[0m \u001b[38;5;28;01mif\u001b[39;00m decimal:\n",
      "File \u001b[0;32m~/.local/lib/python3.8/site-packages/qiskit/compiler/assembler.py:192\u001b[0m, in \u001b[0;36massemble\u001b[0;34m(experiments, backend, qobj_id, qobj_header, shots, memory, max_credits, seed_simulator, qubit_lo_freq, meas_lo_freq, qubit_lo_range, meas_lo_range, schedule_los, meas_level, meas_return, meas_map, memory_slot_size, rep_time, rep_delay, parameter_binds, parametric_pulses, init_qubits, **run_config)\u001b[0m\n\u001b[1;32m    182\u001b[0m run_config \u001b[38;5;241m=\u001b[39m _parse_circuit_args(\n\u001b[1;32m    183\u001b[0m     parameter_binds,\n\u001b[1;32m    184\u001b[0m     backend,\n\u001b[0;32m   (...)\u001b[0m\n\u001b[1;32m    188\u001b[0m     \u001b[38;5;241m*\u001b[39m\u001b[38;5;241m*\u001b[39mrun_config_common_dict,\n\u001b[1;32m    189\u001b[0m )\n\u001b[1;32m    191\u001b[0m \u001b[38;5;66;03m# If circuits are parameterized, bind parameters and remove from run_config\u001b[39;00m\n\u001b[0;32m--> 192\u001b[0m bound_experiments, run_config \u001b[38;5;241m=\u001b[39m \u001b[43m_expand_parameters\u001b[49m\u001b[43m(\u001b[49m\n\u001b[1;32m    193\u001b[0m \u001b[43m    \u001b[49m\u001b[43mcircuits\u001b[49m\u001b[38;5;241;43m=\u001b[39;49m\u001b[43mexperiments\u001b[49m\u001b[43m,\u001b[49m\u001b[43m \u001b[49m\u001b[43mrun_config\u001b[49m\u001b[38;5;241;43m=\u001b[39;49m\u001b[43mrun_config\u001b[49m\n\u001b[1;32m    194\u001b[0m \u001b[43m\u001b[49m\u001b[43m)\u001b[49m\n\u001b[1;32m    195\u001b[0m end_time \u001b[38;5;241m=\u001b[39m time()\n\u001b[1;32m    196\u001b[0m _log_assembly_time(start_time, end_time)\n",
      "File \u001b[0;32m~/.local/lib/python3.8/site-packages/qiskit/compiler/assembler.py:583\u001b[0m, in \u001b[0;36m_expand_parameters\u001b[0;34m(circuits, run_config)\u001b[0m\n\u001b[1;32m    576\u001b[0m \u001b[38;5;66;03m# Check that all parameters are common to all circuits and binds\u001b[39;00m\n\u001b[1;32m    577\u001b[0m \u001b[38;5;28;01mif\u001b[39;00m (\n\u001b[1;32m    578\u001b[0m     \u001b[38;5;129;01mnot\u001b[39;00m all_bind_parameters\n\u001b[1;32m    579\u001b[0m     \u001b[38;5;129;01mor\u001b[39;00m \u001b[38;5;129;01mnot\u001b[39;00m all_circuit_parameters\n\u001b[1;32m    580\u001b[0m     \u001b[38;5;129;01mor\u001b[39;00m \u001b[38;5;28many\u001b[39m(unique_parameters \u001b[38;5;241m!=\u001b[39m bind_params \u001b[38;5;28;01mfor\u001b[39;00m bind_params \u001b[38;5;129;01min\u001b[39;00m all_bind_parameters)\n\u001b[1;32m    581\u001b[0m     \u001b[38;5;129;01mor\u001b[39;00m \u001b[38;5;28many\u001b[39m(unique_parameters \u001b[38;5;241m!=\u001b[39m parameters \u001b[38;5;28;01mfor\u001b[39;00m parameters \u001b[38;5;129;01min\u001b[39;00m all_circuit_parameters)\n\u001b[1;32m    582\u001b[0m ):\n\u001b[0;32m--> 583\u001b[0m     \u001b[38;5;28;01mraise\u001b[39;00m QiskitError(\n\u001b[1;32m    584\u001b[0m         (\n\u001b[1;32m    585\u001b[0m             \u001b[38;5;124m\"\u001b[39m\u001b[38;5;124mMismatch between run_config.parameter_binds and all circuit parameters. \u001b[39m\u001b[38;5;124m\"\u001b[39m\n\u001b[1;32m    586\u001b[0m             \u001b[38;5;241m+\u001b[39m \u001b[38;5;124m\"\u001b[39m\u001b[38;5;124mParameter binds: \u001b[39m\u001b[38;5;132;01m{}\u001b[39;00m\u001b[38;5;124m \u001b[39m\u001b[38;5;124m\"\u001b[39m\n\u001b[1;32m    587\u001b[0m             \u001b[38;5;241m+\u001b[39m \u001b[38;5;124m\"\u001b[39m\u001b[38;5;124mCircuit parameters: \u001b[39m\u001b[38;5;132;01m{}\u001b[39;00m\u001b[38;5;124m\"\u001b[39m\n\u001b[1;32m    588\u001b[0m         )\u001b[38;5;241m.\u001b[39mformat(all_bind_parameters, all_circuit_parameters)\n\u001b[1;32m    589\u001b[0m     )\n\u001b[1;32m    591\u001b[0m circuits \u001b[38;5;241m=\u001b[39m [\n\u001b[1;32m    592\u001b[0m     circuit\u001b[38;5;241m.\u001b[39mbind_parameters(binds) \u001b[38;5;28;01mfor\u001b[39;00m circuit \u001b[38;5;129;01min\u001b[39;00m circuits \u001b[38;5;28;01mfor\u001b[39;00m binds \u001b[38;5;129;01min\u001b[39;00m parameter_binds\n\u001b[1;32m    593\u001b[0m ]\n\u001b[1;32m    595\u001b[0m \u001b[38;5;66;03m# All parameters have been expanded and bound, so remove from run_config\u001b[39;00m\n",
      "\u001b[0;31mQiskitError\u001b[0m: 'Mismatch between run_config.parameter_binds and all circuit parameters. Parameter binds: [] Circuit parameters: [ParameterView([ParameterVectorElement(θ[0]), ParameterVectorElement(θ[1]), ParameterVectorElement(θ[2]), ParameterVectorElement(θ[3]), ParameterVectorElement(θ[4]), ParameterVectorElement(θ[5]), ParameterVectorElement(θ[6]), ParameterVectorElement(θ[7]), ParameterVectorElement(θ[8]), ParameterVectorElement(θ[9]), ParameterVectorElement(θ[10]), ParameterVectorElement(θ[11]), ParameterVectorElement(θ[12]), ParameterVectorElement(θ[13]), ParameterVectorElement(θ[14]), ParameterVectorElement(θ[15])])]'"
     ]
    }
   ],
   "source": [
    "trainning_loop(DIR)"
   ]
  }
 ],
 "metadata": {
  "kernelspec": {
   "display_name": "Python 3 (ipykernel)",
   "language": "python",
   "name": "python3"
  },
  "language_info": {
   "codemirror_mode": {
    "name": "ipython",
    "version": 3
   },
   "file_extension": ".py",
   "mimetype": "text/x-python",
   "name": "python",
   "nbconvert_exporter": "python",
   "pygments_lexer": "ipython3",
   "version": "3.8.10"
  }
 },
 "nbformat": 4,
 "nbformat_minor": 5
}
