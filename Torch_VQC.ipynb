{
 "cells": [
  {
   "cell_type": "code",
   "execution_count": 1,
   "id": "f9c2eccf",
   "metadata": {},
   "outputs": [],
   "source": [
    "import numpy as np\n",
    "import itertools as itr\n",
    "import matplotlib.pyplot as plt\n",
    "\n",
    "from torch import Tensor, manual_seed, is_tensor\n",
    "from torch.nn import Linear, CrossEntropyLoss, MSELoss\n",
    "from torch.optim import LBFGS, Adam\n",
    "from torch.utils.data import Dataset, DataLoader\n",
    "\n",
    "from qiskit import QuantumCircuit, ClassicalRegister, QuantumRegister, Aer, execute, transpile, assemble, IBMQ\n",
    "from qiskit.utils import QuantumInstance, algorithm_globals\n",
    "from qiskit.opflow import AerPauliExpectation\n",
    "from qiskit.circuit import Parameter,ParameterVector\n",
    "from qiskit.visualization import plot_histogram\n",
    "from qiskit.circuit.library import EfficientSU2, RealAmplitudes, ZZFeatureMap\n",
    "from qiskit.opflow.gradients import Gradient, NaturalGradient, QFI, Hessian\n",
    "#from sklearn.preprocessing import OneHotEncoder\n",
    "from qiskit.algorithms.optimizers import SPSA, GradientDescent, QNSPSA, ADAM\n",
    "#from qiskit.tools.monitor import job_monitor\n",
    "\n",
    "\n",
    "from qiskit_machine_learning.runtime import TorchRuntimeClient, TorchRuntimeResult\n",
    "from qiskit_machine_learning.connectors import TorchConnector\n",
    "from qiskit_machine_learning.neural_networks import CircuitQNN, TwoLayerQNN\n",
    "from qiskit_machine_learning.circuit.library import RawFeatureVector\n",
    "\n",
    "COUNTER = 0\n",
    "DIR_val_train = \"Encode_data/amp_enc_data_set_trainning_values.csv\"\n",
    "DIR_cls_train = \"Encode_data/amp_enc_data_set_trainning_classes.csv\"\n",
    "\n",
    "DIR_val_test = \"Encode_data/amp_enc_data_set_test_values.csv\"\n",
    "DIR_cls_test = \"Encode_data/amp_enc_data_set_test_classes.csv\"\n",
    "\n",
    "#IBMQ.save_account(\"07916ec631273d08971f67f1267677801b440be43215767571a165abe0ac621415a17cc5a357e2e2fffa511a6fd3748eb0c46d35ca79d8752b97788fd71f390a\", overwrite=True)\n",
    "\n",
    "IBMQ.load_account()\n",
    "\n",
    "provider = IBMQ.get_provider(hub=\"ibm-q\")  # replace by your runtime provider\n",
    "backend = provider.get_backend(\"ibmq_manila\")  # select a backend that supports the runtime"
   ]
  },
  {
   "cell_type": "code",
   "execution_count": 14,
   "id": "6fb512d1",
   "metadata": {},
   "outputs": [],
   "source": [
    "def get_encode(file):\n",
    "    \"\"\"\n",
    "     Funcao responsavel pelo encoding (amplitude)\n",
    "        Input :: \n",
    "        ### file : File dir\n",
    "        Output :: \n",
    "        #### data_enc : Valores para o encode (numpy array)\n",
    "    \"\"\"\n",
    "    return np.genfromtxt(file, delimiter=\";\")\n",
    "\n",
    "train_data = get_encode(DIR_val_train)\n",
    "train_data_T = Tensor(train_data)\n",
    "train_labels = np.genfromtxt(DIR_cls_train, delimiter=\";\")\n",
    "train_labels_T = Tensor(train_labels).reshape(len(train_labels),1)\n",
    "\n",
    "# Test data points\n",
    "test_data = get_encode(DIR_val_test)\n",
    "test_data_T = Tensor(test_data)\n",
    "test_labels = np.genfromtxt(DIR_cls_test, delimiter=\";\")\n",
    "test_labels_T = Tensor(test_labels).reshape(len(test_labels),1)"
   ]
  },
  {
   "cell_type": "code",
   "execution_count": 3,
   "id": "83c1d37e",
   "metadata": {},
   "outputs": [],
   "source": [
    "# Create custom torch dataset class\n",
    "class TorchDataset(Dataset):\n",
    "    \"\"\"Map-style dataset\"\"\"\n",
    "\n",
    "    def __init__(self, X, y):\n",
    "        self.X = Tensor(X)\n",
    "        self.y = Tensor(y)\n",
    "\n",
    "    def __len__(self):\n",
    "        return len(self.X)\n",
    "\n",
    "    def __getitem__(self, idx):\n",
    "        import torch\n",
    "\n",
    "        if torch.is_tensor(idx):\n",
    "            idx = idx.tolist()\n",
    "\n",
    "        X_i = self.X[idx]\n",
    "        y_i = self.y[idx]\n",
    "\n",
    "        # important: the dataset item must be returned as data,target\n",
    "        return X_i, y_i\n",
    "\n"
   ]
  },
  {
   "cell_type": "code",
   "execution_count": 16,
   "id": "139000a2",
   "metadata": {},
   "outputs": [],
   "source": [
    "train_set = TorchDataset(train_data_T, train_labels_T)\n",
    "train_loader = DataLoader(train_set, batch_size=1, shuffle=False)\n",
    "test_set = TorchDataset(test_data_T, test_labels_T)\n",
    "test_loader = DataLoader(test_set, batch_size=1, shuffle=False)"
   ]
  },
  {
   "cell_type": "code",
   "execution_count": 23,
   "id": "956332c4",
   "metadata": {},
   "outputs": [
    {
     "name": "stderr",
     "output_type": "stream",
     "text": [
      "Cannot compute gradient operator! Continuing without gradients!\n"
     ]
    }
   ],
   "source": [
    "n_qubits = 4\n",
    "\n",
    "encoding = RawFeatureVector(16)\n",
    "\n",
    "ansatz = EfficientSU2(n_qubits, entanglement='full', reps=4, \n",
    "                        insert_barriers=True, name=\"U(\\u03B8)\", \n",
    "                        parameter_prefix=\"\\u03B8\")\n",
    "\n",
    "qnn1 = TwoLayerQNN(n_qubits, \n",
    "                   encoding, \n",
    "                   ansatz)\n",
    "qnn1.circuit.draw()\n",
    "\n",
    "qc = encoding.compose(ansatz)\n",
    "\n",
    "qnn2 = parity = lambda x: \"{:b}\".format(x).count(\"1\") % 2\n",
    "output_shape = 2  \n",
    "qnn6 = CircuitQNN(qc,\n",
    "                    [],\n",
    "                    qc.parameters,\n",
    "                    sparse=False,\n",
    "                    interpret=parity,\n",
    "                    output_shape=output_shape)\n",
    "\n",
    "initial_parameters = np.random.random(ansatz.num_parameters)\n",
    "model1 = TorchConnector(qnn1, initial_parameters)\n",
    "model2 = TorchConnector(qnn2, initial_parameters)\n",
    "\n",
    "optimizer1 = Adam(model1.parameters(), lr=0.1)\n",
    "loss_func1 = MSELoss(reduction=\"sum\")\n",
    "\n",
    "optimizer2 = Adam(model1.parameters(), lr=0.1)\n",
    "loss_func2 = CrossEntropyLoss(reduction=\"sum\")"
   ]
  },
  {
   "cell_type": "code",
   "execution_count": 8,
   "id": "bbe7450f",
   "metadata": {},
   "outputs": [],
   "source": [
    "torch_runtime_client = TorchRuntimeClient(\n",
    "    provider=provider,\n",
    "    model=model1,\n",
    "    optimizer=optimizer1,\n",
    "    loss_func=loss_func1,\n",
    "    epochs=5,\n",
    "    backend=backend,\n",
    ")\n",
    "\n",
    "torch_runtime_client3 = TorchRuntimeClient(\n",
    "    provider=provider,\n",
    "    model=model2,\n",
    "    optimizer=optimizer2,\n",
    "    loss_func=loss_func2,\n",
    "    epochs=100,\n",
    "    backend=backend,\n",
    ")"
   ]
  },
  {
   "cell_type": "code",
   "execution_count": 9,
   "id": "7c16550e",
   "metadata": {},
   "outputs": [],
   "source": [
    "fit_result = torch_runtime_client.fit(train_loader=train_loader)"
   ]
  },
  {
   "cell_type": "code",
   "execution_count": 10,
   "id": "0bf166b7",
   "metadata": {},
   "outputs": [],
   "source": [
    "# In this example, we use the same data loader for the prediction as well\n",
    "predict_result = torch_runtime_client.predict(data_loader=train_loader)"
   ]
  },
  {
   "cell_type": "code",
   "execution_count": 26,
   "id": "ba6688a1",
   "metadata": {},
   "outputs": [],
   "source": [
    "def score_func(out, target):\n",
    "    from numpy import sign\n",
    "    score = 0\n",
    "    print(\"out: \", out, type(out))\n",
    "    print(\"target: \", target)\n",
    "    if sign(out.item()) == target.item():\n",
    "        score = 1\n",
    "    return score"
   ]
  },
  {
   "cell_type": "code",
   "execution_count": 12,
   "id": "27bd2343",
   "metadata": {},
   "outputs": [],
   "source": [
    "# data_loader = train_loader\n",
    "\n",
    "score_result = torch_runtime_client.score(data_loader=train_loader, score_func=score_func)"
   ]
  },
  {
   "cell_type": "code",
   "execution_count": 13,
   "id": "cd530d56",
   "metadata": {},
   "outputs": [
    {
     "name": "stdout",
     "output_type": "stream",
     "text": [
      "id:  ca8b31s7krikd53s3aig\n",
      "execution time:  551.3717706203461\n",
      "score:  0.55\n"
     ]
    }
   ],
   "source": [
    "print(\"id: \", score_result.job_id)\n",
    "print(\"execution time: \", score_result.execution_time)\n",
    "print(\"score: \", score_result.score)"
   ]
  },
  {
   "cell_type": "code",
   "execution_count": 17,
   "id": "74197d31",
   "metadata": {},
   "outputs": [],
   "source": [
    "## data_laoder = test_loader\n",
    "\n",
    "score_result = torch_runtime_client.score(data_loader=test_loader, score_func=score_func)"
   ]
  },
  {
   "cell_type": "code",
   "execution_count": 19,
   "id": "c1a2fdb5",
   "metadata": {},
   "outputs": [
    {
     "name": "stdout",
     "output_type": "stream",
     "text": [
      "id:  ca8bfslmoms9e8gui290\n",
      "execution time:  165.09437680244446\n",
      "score:  0.5416666666666666\n"
     ]
    }
   ],
   "source": [
    "print(\"id: \", score_result.job_id)\n",
    "print(\"execution time: \", score_result.execution_time)\n",
    "print(\"score: \", score_result.score)"
   ]
  },
  {
   "cell_type": "code",
   "execution_count": 24,
   "id": "a8efbe0c",
   "metadata": {},
   "outputs": [],
   "source": [
    "torch_runtime_client2 = TorchRuntimeClient(\n",
    "    provider=provider,\n",
    "    model=model1,\n",
    "    optimizer=optimizer2,\n",
    "    loss_func=loss_func2,\n",
    "    epochs=50,\n",
    "    backend=backend,\n",
    ")"
   ]
  },
  {
   "cell_type": "code",
   "execution_count": 29,
   "id": "ca6a312d",
   "metadata": {},
   "outputs": [],
   "source": [
    "fit_result2 = torch_runtime_client2.fit(train_loader=train_loader, val_loader=test_loader)"
   ]
  },
  {
   "cell_type": "code",
   "execution_count": 30,
   "id": "1b498b30",
   "metadata": {},
   "outputs": [],
   "source": [
    "predict_result = torch_runtime_client2.predict(data_loader=test_loader)"
   ]
  },
  {
   "cell_type": "code",
   "execution_count": 35,
   "id": "0b0233fb",
   "metadata": {},
   "outputs": [
    {
     "name": "stdout",
     "output_type": "stream",
     "text": [
      "<class 'collections.OrderedDict'>\n"
     ]
    }
   ],
   "source": [
    "print(type(fit_result2.model_state_dict))"
   ]
  },
  {
   "cell_type": "code",
   "execution_count": 41,
   "id": "0e64f6d1",
   "metadata": {},
   "outputs": [
    {
     "data": {
      "text/plain": [
       "[{'epoch': 0,\n",
       "  'loss': 0.0,\n",
       "  'forward_time': 6.59633994102478,\n",
       "  'backward_time': 0,\n",
       "  'epoch_time': 6.59633994102478},\n",
       " {'epoch': 1,\n",
       "  'loss': 0.0,\n",
       "  'forward_time': 6.885428428649902,\n",
       "  'backward_time': 0,\n",
       "  'epoch_time': 6.885428428649902},\n",
       " {'epoch': 2,\n",
       "  'loss': 0.0,\n",
       "  'forward_time': 6.381465196609497,\n",
       "  'backward_time': 0,\n",
       "  'epoch_time': 6.381465196609497},\n",
       " {'epoch': 3,\n",
       "  'loss': 0.0,\n",
       "  'forward_time': 6.3744072914123535,\n",
       "  'backward_time': 0,\n",
       "  'epoch_time': 6.3744072914123535},\n",
       " {'epoch': 4,\n",
       "  'loss': 0.0,\n",
       "  'forward_time': 6.380313158035278,\n",
       "  'backward_time': 0,\n",
       "  'epoch_time': 6.380313158035278}]"
      ]
     },
     "execution_count": 41,
     "metadata": {},
     "output_type": "execute_result"
    }
   ],
   "source": [
    "fit_result2.model_state_dict\n",
    "fit_result2.val_history"
   ]
  },
  {
   "cell_type": "code",
   "execution_count": 38,
   "id": "72c52eb5",
   "metadata": {},
   "outputs": [
    {
     "ename": "RuntimeError",
     "evalue": "Boolean value of Tensor with more than one value is ambiguous",
     "output_type": "error",
     "traceback": [
      "\u001b[0;31m---------------------------------------------------------------------------\u001b[0m",
      "\u001b[0;31mRuntimeError\u001b[0m                              Traceback (most recent call last)",
      "Input \u001b[0;32mIn [38]\u001b[0m, in \u001b[0;36m<module>\u001b[0;34m\u001b[0m\n\u001b[0;32m----> 1\u001b[0m \u001b[38;5;28;01mif\u001b[39;00m fit_result2\u001b[38;5;241m.\u001b[39mmodel_state_dict[\u001b[38;5;124m\"\u001b[39m\u001b[38;5;124mweight\u001b[39m\u001b[38;5;124m\"\u001b[39m] \u001b[38;5;241m==\u001b[39m fit_result2\u001b[38;5;241m.\u001b[39mmodel_state_dict[\u001b[38;5;124m\"\u001b[39m\u001b[38;5;124m_weights\u001b[39m\u001b[38;5;124m\"\u001b[39m]:\n\u001b[1;32m      2\u001b[0m     \u001b[38;5;28mprint\u001b[39m(\u001b[38;5;124m\"\u001b[39m\u001b[38;5;124mOk\u001b[39m\u001b[38;5;124m\"\u001b[39m)\n",
      "\u001b[0;31mRuntimeError\u001b[0m: Boolean value of Tensor with more than one value is ambiguous"
     ]
    }
   ],
   "source": [
    "opt"
   ]
  },
  {
   "cell_type": "code",
   "execution_count": 40,
   "id": "2fb696c5",
   "metadata": {},
   "outputs": [
    {
     "name": "stdout",
     "output_type": "stream",
     "text": [
      "None\n"
     ]
    }
   ],
   "source": [
    "print(predict_result.val_history)"
   ]
  },
  {
   "cell_type": "code",
   "execution_count": null,
   "id": "18302a8a",
   "metadata": {},
   "outputs": [],
   "source": []
  }
 ],
 "metadata": {
  "kernelspec": {
   "display_name": "Python 3 (ipykernel)",
   "language": "python",
   "name": "python3"
  },
  "language_info": {
   "codemirror_mode": {
    "name": "ipython",
    "version": 3
   },
   "file_extension": ".py",
   "mimetype": "text/x-python",
   "name": "python",
   "nbconvert_exporter": "python",
   "pygments_lexer": "ipython3",
   "version": "3.8.10"
  }
 },
 "nbformat": 4,
 "nbformat_minor": 5
}
