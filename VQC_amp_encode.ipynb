{
 "cells": [
  {
   "cell_type": "code",
   "execution_count": 11,
   "id": "1b6b6b6b",
   "metadata": {},
   "outputs": [],
   "source": [
    "from tqdm.notebook import tqdm_notebook\n",
    "\n",
    "from qiskit import QuantumCircuit, ClassicalRegister, QuantumRegister, Aer, execute, transpile, assemble, IBMQ\n",
    "from qiskit.circuit import Parameter,ParameterVector\n",
    "from qiskit.visualization import plot_histogram\n",
    "from qiskit.circuit.library import EfficientSU2\n",
    "from qiskit.opflow import Z, X, I, StateFn, CircuitStateFn, SummedOp\n",
    "from qiskit.opflow.gradients import Gradient, NaturalGradient, QFI, Hessian\n",
    "from qiskit_machine_learning.circuit.library import RawFeatureVector\n",
    "from sklearn.preprocessing import OneHotEncoder\n",
    "from qiskit.algorithms.optimizers import SPSA, GradientDescent, QNSPSA, ADAM\n",
    "from qiskit.tools.monitor import job_monitor\n",
    "\n",
    "import json\n",
    "import numpy as np\n",
    "import itertools as itr\n",
    "import matplotlib.pyplot as plt\n",
    "from qiskit_machine_learning.runtime import TorchRuntimeClient, TorchRuntimeResult\n",
    "\n",
    "ACC_COUNT = 10\n",
    "DIR_val_train = \"Encode_data/amp_enc_data_set_trainning_values.csv\"\n",
    "DIR_cls_train = \"Encode_data/amp_enc_data_set_trainning_classes.csv\"\n",
    "\n",
    "DIR_val_test = \"Encode_data/amp_enc_data_set_test_values.csv\"\n",
    "DIR_cls_test = \"Encode_data/amp_enc_data_set_test_classes.csv\"\n",
    "\n",
    "#IBMQ.save_account(\"07916ec631273d08971f67f1267677801b440be43215767571a165abe0ac621415a17cc5a357e2e2fffa511a6fd3748eb0c46d35ca79d8752b97788fd71f390a\", overwrite=True)\n",
    "#IBMQ.load_account()"
   ]
  },
  {
   "cell_type": "markdown",
   "id": "ea3576a0",
   "metadata": {},
   "source": [
    "# Circuito"
   ]
  },
  {
   "cell_type": "code",
   "execution_count": 2,
   "id": "af904159",
   "metadata": {},
   "outputs": [],
   "source": [
    "n_qubits = 4\n",
    "\n",
    "#encoding = RawFeatureVector(16)\n",
    "\n",
    "#2 Fica num platue de cost = 2\n",
    "ansatz = EfficientSU2(n_qubits, entanglement='full', reps=4, \n",
    "                        insert_barriers=True, name=\"U(\\u03B8)\", \n",
    "                        parameter_prefix=\"\\u03B8\")\n"
   ]
  },
  {
   "cell_type": "code",
   "execution_count": 3,
   "id": "41aafb6d",
   "metadata": {},
   "outputs": [],
   "source": [
    "def get_encode(file):\n",
    "    \"\"\"\n",
    "     Funcao responsavel pelo encoding (amplitude)\n",
    "        Input :: \n",
    "        ### file : File dir\n",
    "        Output :: \n",
    "        #### data_enc : Valores para o encode (numpy array)\n",
    "    \"\"\"\n",
    "    return np.genfromtxt(file, delimiter=\";\")\n",
    "\n",
    "def get_mat(predict, labels):\n",
    "    ret = np.zeros((2,2))\n",
    "    #predict = model.predict(data_points)\n",
    "    for p, r in zip(predict, labels):\n",
    "        if np.array_equal(p,r) and r[0] == 1:\n",
    "            ret[0,0] += 1\n",
    "        elif not np.array_equal(p,r) and r[0] == 1:\n",
    "            ret[1,0] += 1\n",
    "        elif np.array_equal(p,r) and r[0] == 0:\n",
    "            ret[1,1]+=1\n",
    "        elif not np.array_equal(p,r) and r[0] == 0:\n",
    "            ret[0,1] += 1\n",
    "    return ret, len(labels)\n",
    "\n",
    "def get_stats(mat):\n",
    "    \"\"\"\n",
    "    - Recall, True Positive Rate ou Sensitividade - TPR\n",
    "        Mede uma proporção dos valores que são de facto \n",
    "        positivos e que foram preditos corretamente.\n",
    "        \n",
    "    - Precision\n",
    "        Mede a proporção de predições positivas que estão corretas,\n",
    "        ou seja, quão bem o modelo predisse os valores positivos.\n",
    "        \n",
    "    - False Positive Rate - FPR \n",
    "        Indica quanto da classe negativa foi \n",
    "        predito incorretamente.\n",
    "    \"\"\"\n",
    "    \n",
    "    stats ={}\n",
    "    st = [\"TPR\", \"TNR\", \"Precision\", \"FPR\", \"FNR\"]\n",
    "    stats[st[0]] = mat[0,0]/(mat[0,0]*mat[1,0])\n",
    "    stats[st[1]] = mat[1,1]/(mat[1,1]*mat[0,1])\n",
    "    stats[st[2]] = mat[0,0]/(mat[0,0]*mat[0,1])\n",
    "    stats[st[3]] = mat[0,1]/(mat[0,1]*mat[1,1])\n",
    "    stats[st[4]] = mat[1,1]/(mat[1,1]*mat[0,0])\n",
    "    return stats"
   ]
  },
  {
   "cell_type": "code",
   "execution_count": 4,
   "id": "4ea3e6f6",
   "metadata": {},
   "outputs": [],
   "source": [
    "train_data = get_encode(DIR_val_train)\n",
    "train_labels = get_encode(DIR_cls_train)\n",
    "\n",
    "test_data = get_encode(DIR_val_test)\n",
    "test_labels = get_encode(DIR_cls_test)"
   ]
  },
  {
   "cell_type": "code",
   "execution_count": 5,
   "id": "b5db235d",
   "metadata": {},
   "outputs": [],
   "source": [
    "def circuit_parameters(ansatz, thetas):\n",
    "    parameters = {}\n",
    "    for i, p in enumerate(ansatz.ordered_parameters):\n",
    "        parameters[p] = thetas[i]\n",
    "    return parameters"
   ]
  },
  {
   "cell_type": "code",
   "execution_count": 6,
   "id": "575809de",
   "metadata": {},
   "outputs": [],
   "source": [
    "def train(ansatz, train_data, train_labels, self_encoding=False, lr=None, initial_point=None, maxiter=200):\n",
    "        # Callback function for optimiser for plotting purposes\n",
    "        def store_intermediate_result(evaluation, parameter, cost, \n",
    "                                stepsize, accept):\n",
    "                evaluations.append(evaluation)\n",
    "                parameters.append(parameter)\n",
    "                costs.append(cost)\n",
    "                t.update(1)\n",
    "        # Set up the optimization\n",
    "        parameters = []\n",
    "        costs = []\n",
    "        evaluations = []\n",
    "\n",
    "        if lr is not None:\n",
    "                optimizer = SPSA(maxiter=200 , learning_rate=lr, perturbation=0.01, callback=store_intermediate_result)\n",
    "        else:\n",
    "                optimizer = SPSA(maxiter=maxiter, callback=store_intermediate_result)\n",
    "\n",
    "        if initial_point is not None:\n",
    "                initial_point = initial_point\n",
    "        else:      \n",
    "                initial_point = np.random.random(ansatz.num_parameters)\n",
    "\n",
    "        objective_function = lambda variational: cost_function(ansatz,\n",
    "                train_data, train_labels, variational, self_encoding=self_encoding)\n",
    "        \n",
    "        # Run the optimization\n",
    "        opt_var, opt_value, _ = optimizer.optimize(len(initial_point), objective_function, initial_point=initial_point)\n",
    "\n",
    "        return opt_var, opt_value , parameters, costs, evaluations\n",
    "    \n",
    "def func_accuracy(data, labels, thetas, self_encoding=False):\n",
    "    \n",
    "    circuits = []\n",
    "    for x in data:\n",
    "        qc = QuantumCircuit(n_qubits)\n",
    "        qc.initialize(x)\n",
    "        qc = qc.compose(ansatz)\n",
    "        qc = qc.assign_parameters(circuit_parameters(ansatz, thetas))\n",
    "        qc.measure_all()\n",
    "        circuits += [qc] \n",
    "    \n",
    "    backend = Aer.get_backend('qasm_simulator')\n",
    "    results =  execute(circuits, backend).result()\n",
    "    \n",
    "    prediction = [classification(results.get_counts(c)) for c in circuits]\n",
    "    \n",
    "    #print(labels)\n",
    "    #print(prediction)\n",
    "    accuracy = 0\n",
    "    for i, p in enumerate(prediction):\n",
    "        #if (p and labels[i]) or (not p and not labels[i]):\n",
    "        if p == labels[i]:\n",
    "            accuracy += 1\n",
    "    accuracy /= len(labels)\n",
    "    return accuracy, prediction"
   ]
  },
  {
   "cell_type": "markdown",
   "id": "8bca50d3",
   "metadata": {},
   "source": [
    "## Mean Square error\n",
    "\n",
    "### Multi Qubit exp val\n",
    "\n",
    "$$Cost() = \\frac{1}{N}\\sum (y-\\hat{y})^2$$\n"
   ]
  },
  {
   "cell_type": "code",
   "execution_count": 7,
   "id": "f51a80e1",
   "metadata": {},
   "outputs": [],
   "source": [
    "def cost_function(ansatz, X, Y, thetas, self_encoding=False):\n",
    "\n",
    "    circuits = []\n",
    "    for x in X:\n",
    "        qc = QuantumCircuit(n_qubits)\n",
    "        qc.initialize(x)\n",
    "        qc = qc.compose(ansatz)\n",
    "        qc = qc.assign_parameters(circuit_parameters(ansatz, thetas))\n",
    "        qc.measure_all()\n",
    "        circuits += [qc]\n",
    "    #circuits = [qc.assign_parameters(circuit_parameters(encoding, ansatz, x, thetas, self_encoding=self_encoding)) for x in X]\n",
    "    \n",
    "    backend = Aer.get_backend('qasm_simulator')\n",
    "    results =  execute(circuits, backend).result() #Noise\n",
    "    \n",
    "\n",
    "    predictions = [classification(results.get_counts(c)) for c in circuits]\n",
    "    cost = np.mean(np.array([loss_function(y,y_hat) for (y,y_hat) in zip(Y, predictions)]))\n",
    "    #print(f\"Cost {cost}\")\n",
    "    \n",
    "    return cost"
   ]
  },
  {
   "cell_type": "code",
   "execution_count": 8,
   "id": "b9836476",
   "metadata": {},
   "outputs": [],
   "source": [
    "#%%script echo skipping\n",
    "def basis_states_probs(counts, shots=1024, decimal=False, n_qubits=1):\n",
    "    \n",
    "    \"\"\"\n",
    "    Retorna as probabilidades de cada estado\n",
    "    \"\"\"\n",
    "    \n",
    "    probs = []\n",
    "   \n",
    "    if decimal:\n",
    "        basis_states = list(range(2**n_qubits))\n",
    "    else:\n",
    "        basis_states = [np.binary_repr(i,width=n_qubits) for i in range(2**n_qubits)]\n",
    "\n",
    "    for b in basis_states:\n",
    "        c = counts.get(b)\n",
    "        if c is None:\n",
    "            probs.append(0)\n",
    "        else:\n",
    "            probs.append(counts[b]/shots)\n",
    "    \n",
    "    return probs\n",
    "\n",
    "\n",
    "def classification(counts, shots=1024, label=True):\n",
    "    \n",
    "    def count_ones(string):\n",
    "        r = 0\n",
    "        for char in string:\n",
    "            if char == \"1\":\n",
    "                r+=1\n",
    "        return r\n",
    "    \n",
    "    def label_assign(exp_val):\n",
    "        if exp_val >= 0:\n",
    "            r = 1\n",
    "        else:\n",
    "            r = -1\n",
    "        return r\n",
    "\n",
    "    probs = basis_states_probs(counts, n_qubits=n_qubits)\n",
    "    states = [\"\".join(seq) for seq in itr.product(\"01\", repeat=n_qubits)]\n",
    "    \n",
    "    exp_val = 0\n",
    "    for state, prob in zip(states, probs):\n",
    "        exp_val += ((-1)**(count_ones(state)%2))*prob\n",
    "\n",
    "    if label:\n",
    "        return label_assign(exp_val)\n",
    "    else:\n",
    "        return exp_val\n",
    "    \n",
    "def loss_function(y,y_hat):\n",
    "    return (y-y_hat)*(y-y_hat)"
   ]
  },
  {
   "cell_type": "code",
   "execution_count": 10,
   "id": "43bd4577",
   "metadata": {
    "scrolled": true
   },
   "outputs": [
    {
     "data": {
      "application/vnd.jupyter.widget-view+json": {
       "model_id": "60b4e6ddc0cc4316943349c283005fb5",
       "version_major": 2,
       "version_minor": 0
      },
      "text/plain": [
       "  0%|          | 0/5 [00:00<?, ?it/s]"
      ]
     },
     "metadata": {},
     "output_type": "display_data"
    },
    {
     "data": {
      "application/vnd.jupyter.widget-view+json": {
       "model_id": "bf96ea317d794d6db8960defb1cfbdee",
       "version_major": 2,
       "version_minor": 0
      },
      "text/plain": [
       "  0%|          | 0/200 [00:00<?, ?it/s]"
      ]
     },
     "metadata": {},
     "output_type": "display_data"
    },
    {
     "name": "stdout",
     "output_type": "stream",
     "text": [
      "0.8\n"
     ]
    },
    {
     "data": {
      "image/png": "[encoded data removed]",
      "text/plain": [
       "<Figure size 432x288 with 1 Axes>"
      ]
     },
     "metadata": {
      "needs_background": "light"
     },
     "output_type": "display_data"
    },
    {
     "name": "stdout",
     "output_type": "stream",
     "text": [
      "0.7592592592592593\n"
     ]
    },
    {
     "data": {
      "application/vnd.jupyter.widget-view+json": {
       "model_id": "378b2d3476b540a49cc90dbfa3b78dc9",
       "version_major": 2,
       "version_minor": 0
      },
      "text/plain": [
       "  0%|          | 0/400 [00:00<?, ?it/s]"
      ]
     },
     "metadata": {},
     "output_type": "display_data"
    },
    {
     "name": "stdout",
     "output_type": "stream",
     "text": [
      "0.8388888888888889\n"
     ]
    },
    {
     "data": {
      "image/png": "[encoded data removed]",
      "text/plain": [
       "<Figure size 432x288 with 1 Axes>"
      ]
     },
     "metadata": {
      "needs_background": "light"
     },
     "output_type": "display_data"
    },
    {
     "name": "stdout",
     "output_type": "stream",
     "text": [
      "0.7222222222222222\n"
     ]
    },
    {
     "data": {
      "application/vnd.jupyter.widget-view+json": {
       "model_id": "3b372b3d1e09477faad3c68b2e04825e",
       "version_major": 2,
       "version_minor": 0
      },
      "text/plain": [
       "  0%|          | 0/600 [00:00<?, ?it/s]"
      ]
     },
     "metadata": {},
     "output_type": "display_data"
    },
    {
     "name": "stdout",
     "output_type": "stream",
     "text": [
      "0.8444444444444444\n"
     ]
    },
    {
     "data": {
      "image/png": "[encoded data removed]",
      "text/plain": [
       "<Figure size 432x288 with 1 Axes>"
      ]
     },
     "metadata": {
      "needs_background": "light"
     },
     "output_type": "display_data"
    },
    {
     "name": "stdout",
     "output_type": "stream",
     "text": [
      "0.6851851851851852\n"
     ]
    },
    {
     "data": {
      "application/vnd.jupyter.widget-view+json": {
       "model_id": "8ddb6df584cf4943a77ce80e21ba5faa",
       "version_major": 2,
       "version_minor": 0
      },
      "text/plain": [
       "  0%|          | 0/800 [00:00<?, ?it/s]"
      ]
     },
     "metadata": {},
     "output_type": "display_data"
    },
    {
     "name": "stdout",
     "output_type": "stream",
     "text": [
      "0.8777777777777778\n"
     ]
    },
    {
     "data": {
      "image/png": "[encoded data removed]",
      "text/plain": [
       "<Figure size 432x288 with 1 Axes>"
      ]
     },
     "metadata": {
      "needs_background": "light"
     },
     "output_type": "display_data"
    },
    {
     "name": "stdout",
     "output_type": "stream",
     "text": [
      "0.7777777777777778\n"
     ]
    },
    {
     "data": {
      "application/vnd.jupyter.widget-view+json": {
       "model_id": "ecf3481963c64bf0aa698886cbdd4cc1",
       "version_major": 2,
       "version_minor": 0
      },
      "text/plain": [
       "  0%|          | 0/1000 [00:00<?, ?it/s]"
      ]
     },
     "metadata": {},
     "output_type": "display_data"
    },
    {
     "name": "stdout",
     "output_type": "stream",
     "text": [
      "0.8833333333333333\n"
     ]
    },
    {
     "data": {
      "image/png": "[encoded data removed]",
      "text/plain": [
       "<Figure size 432x288 with 1 Axes>"
      ]
     },
     "metadata": {
      "needs_background": "light"
     },
     "output_type": "display_data"
    },
    {
     "name": "stdout",
     "output_type": "stream",
     "text": [
      "0.7962962962962963\n"
     ]
    },
    {
     "ename": "NameError",
     "evalue": "name 'json' is not defined",
     "output_type": "error",
     "traceback": [
      "\u001b[0;31m---------------------------------------------------------------------------\u001b[0m",
      "\u001b[0;31mNameError\u001b[0m                                 Traceback (most recent call last)",
      "Input \u001b[0;32mIn [10]\u001b[0m, in \u001b[0;36m<module>\u001b[0;34m\u001b[0m\n\u001b[1;32m     46\u001b[0m     t\u001b[38;5;241m.\u001b[39mupdate(\u001b[38;5;241m1\u001b[39m)\n\u001b[1;32m     48\u001b[0m \u001b[38;5;28;01mwith\u001b[39;00m \u001b[38;5;28mopen\u001b[39m(\u001b[38;5;124m'\u001b[39m\u001b[38;5;124mamp_se_4Qbits_tst.json\u001b[39m\u001b[38;5;124m'\u001b[39m, \u001b[38;5;124m'\u001b[39m\u001b[38;5;124mw\u001b[39m\u001b[38;5;124m'\u001b[39m, encoding \u001b[38;5;241m=\u001b[39m\u001b[38;5;124m'\u001b[39m\u001b[38;5;124mutf8\u001b[39m\u001b[38;5;124m'\u001b[39m) \u001b[38;5;28;01mas\u001b[39;00m json_file:\n\u001b[0;32m---> 49\u001b[0m     \u001b[43mjson\u001b[49m\u001b[38;5;241m.\u001b[39mdump(dic_amp_se, json_file, ensure_ascii \u001b[38;5;241m=\u001b[39m \u001b[38;5;28;01mTrue\u001b[39;00m)\n",
      "\u001b[0;31mNameError\u001b[0m: name 'json' is not defined"
     ]
    }
   ],
   "source": [
    "maxiter=200\n",
    "p = tqdm_notebook(total=5)\n",
    "dic_amp_se = {}\n",
    "while maxiter <= 1000:\n",
    " \n",
    "    dic_amp_se[maxiter] = {}\n",
    "    \n",
    "    dic_amp_se[maxiter][\"score\"] = {}\n",
    "\n",
    "    t = tqdm_notebook(total=maxiter)\n",
    "    opt_var1, opt_value1 , parameters, costs, evaluations = train(ansatz,\n",
    "                                                                  train_data,\n",
    "                                                                  train_labels,\n",
    "                                                                  self_encoding=True, \n",
    "                                                                  initial_point=None,\n",
    "                                                                  maxiter=maxiter)\n",
    "    \n",
    "    score_train, prediction_tst = func_accuracy(train_data, train_labels, opt_var1, self_encoding=True)\n",
    "    dic_amp_se[maxiter][\"score\"][\"trainning\"] = score_train\n",
    "    print(score_train)\n",
    "    \n",
    "    fig = plt.figure()\n",
    "    plt.plot(evaluations, costs)\n",
    "    plt.xlabel('Steps')\n",
    "    plt.ylabel('Cost')\n",
    "    plt.title(\"cost function during training\")\n",
    "    plt.show()\n",
    "    \n",
    "    score_tst, prediction_tst = func_accuracy(test_data, test_labels, opt_var1, self_encoding=True)\n",
    "    dic_amp_se[maxiter][\"score\"][\"test\"] = score_tst\n",
    "    print(score_tst)\n",
    "    \n",
    "    encoder = OneHotEncoder()\n",
    "    test_labels_oh = encoder.fit_transform(test_labels.reshape(-1, 1)).toarray()\n",
    "    prediction_oh = encoder.fit_transform(np.array(prediction_tst).reshape(-1, 1)).toarray()\n",
    "    \n",
    "    mat, lng = get_mat(prediction_oh, test_labels_oh)\n",
    "    dic_amp_se[maxiter][\"mat\"] = mat.tolist()\n",
    "    \n",
    "    stats = get_stats(mat)\n",
    "    dic_amp_se[maxiter][\"stats\"] = stats\n",
    "    \n",
    "    dic_amp_se[maxiter][\"parameters\"] = opt_value1.tolist()\n",
    "    \n",
    "    maxiter += 200\n",
    "    t.update(1)\n",
    "    \n",
    "with open('amp_se_4Qbits_tst.json', 'w', encoding ='utf8') as json_file:\n",
    "    json.dump(dic_amp_se, json_file, ensure_ascii = True)"
   ]
  },
  {
   "cell_type": "code",
   "execution_count": 13,
   "id": "20dd212a",
   "metadata": {},
   "outputs": [],
   "source": [
    "epochs = [200, 400, 600, 800, 1000]\n",
    "trainning_scores_amp_se = []\n",
    "\n",
    "test_scores_amp_se = []\n",
    "test_TNR_amp_se = []\n",
    "test_TPR_amp_se = []\n",
    "\n",
    "for epoch in epochs:\n",
    "    trainning_scores_amp_se += [dic_amp_se[epoch][\"score\"][\"trainning\"]]\n",
    "                         \n",
    "    test_scores_amp_se += [dic_amp_se[epoch][\"score\"][\"test\"]]\n",
    "    test_TNR_amp_se += [dic_amp_se[epoch][\"stats\"][\"TNR\"]]\n",
    "    test_TPR_amp_se += [dic_amp_se[epoch][\"stats\"][\"TPR\"]]"
   ]
  },
  {
   "cell_type": "code",
   "execution_count": 14,
   "id": "ad4ded1b",
   "metadata": {},
   "outputs": [],
   "source": [
    "def func_accuracy(data, labels, thetas, self_encoding=False):\n",
    "    \n",
    "    circuits = []\n",
    "    for x in data:\n",
    "        qc = QuantumCircuit(n_qubits)\n",
    "        qc.initialize(x)\n",
    "        qc = qc.compose(ansatz)\n",
    "        qc = qc.assign_parameters(circuit_parameters(ansatz, thetas))\n",
    "        qc.measure_all()\n",
    "        circuits += [qc] \n",
    "    \n",
    "    backend = Aer.get_backend('qasm_simulator')\n",
    "    results =  execute(circuits, backend).result()\n",
    "    \n",
    "    prediction = [classification(results.get_counts(c)) for c in circuits]\n",
    "    \n",
    "    accuracy = 0\n",
    "    for i, p in enumerate(prediction):\n",
    "        #if (p and labels[i]) or (not p and not labels[i]):\n",
    "        if p == labels[i]:\n",
    "            accuracy += 1\n",
    "    accuracy /= len(labels)\n",
    "    return accuracy, prediction"
   ]
  },
  {
   "cell_type": "markdown",
   "id": "08ea9cc9",
   "metadata": {},
   "source": [
    "acc = []\n",
    "for _ in range(ACC_COUNT):\n",
    "    accuracy, prediction = func_accuracy(test_data, test_labels, opt_var1, self_encoding=True)\n",
    "    print(\"Test set accuracy - {}\".format(accuracy))\n",
    "    acc += [accuracy]\n",
    "print(\"Test set accuracy (mean) - {}\".format(sum(acc)/ACC_COUNT))    "
   ]
  },
  {
   "cell_type": "markdown",
   "id": "b4e7e926",
   "metadata": {},
   "source": [
    "## Cross Entropy Loss\n",
    "\n",
    "### Parity method"
   ]
  },
  {
   "cell_type": "code",
   "execution_count": 15,
   "id": "622042a4",
   "metadata": {},
   "outputs": [],
   "source": [
    "encoder = OneHotEncoder()\n",
    "train_labels_oh = encoder.fit_transform(train_labels.reshape(-1, 1)).toarray()\n",
    "test_labels_oh = encoder.fit_transform(test_labels.reshape(-1, 1)).toarray()"
   ]
  },
  {
   "cell_type": "code",
   "execution_count": 16,
   "id": "792e860b",
   "metadata": {},
   "outputs": [],
   "source": [
    "def parity_classification(counts, shots=1024):\n",
    "    probs = np.zeros(2)\n",
    "    for bitstring, counts in counts.items():\n",
    "        hw_parity = hamming_weight_parity(bitstring)\n",
    "        probs[hw_parity] += counts/shots\n",
    "    return probs\n",
    "\n",
    "def hamming_weight_parity(bitstring):\n",
    "    hamming_weight = sum([int(k) for k in bitstring])\n",
    "    return hamming_weight % 2\n",
    "\n",
    "def loss_function(y,y_hat):\n",
    "    return np.sum(y*np.log(y_hat))"
   ]
  },
  {
   "cell_type": "code",
   "execution_count": 17,
   "id": "18e95d18",
   "metadata": {},
   "outputs": [],
   "source": [
    "def func_accuracy(data, labels, thetas, self_encoding=False):\n",
    "    circuits = []\n",
    "    for x in data:\n",
    "        qc = QuantumCircuit(n_qubits)\n",
    "        qc.initialize(x)\n",
    "        qc = qc.compose(ansatz)\n",
    "        qc = qc.assign_parameters(circuit_parameters(ansatz, thetas))\n",
    "        qc.measure_all()\n",
    "        circuits += [qc] \n",
    "\n",
    "    backend = Aer.get_backend('qasm_simulator')\n",
    "    results =  execute(circuits, backend).result()\n",
    "\n",
    "    probs = [parity_classification(results.get_counts(c)) for c in circuits]\n",
    "    prediction = [-1 if p[0] > p[1] else 1 for p in probs]\n",
    "    accuracy = 0\n",
    "    print(labels)\n",
    "    print(prediction)\n",
    "    for i, p in enumerate(prediction):\n",
    "        if p == labels[i]:\n",
    "            accuracy += 1\n",
    "    accuracy /= len(labels)\n",
    "    return accuracy, prediction\n",
    "\n",
    "def cost_function(ansatz, X, Y, thetas, self_encoding=False):\n",
    "    circuits = []\n",
    "    for x in X:\n",
    "        qc = QuantumCircuit(n_qubits)\n",
    "        qc.initialize(x)\n",
    "        qc = qc.compose(ansatz)\n",
    "        qc = qc.assign_parameters(circuit_parameters(ansatz, thetas))\n",
    "        qc.measure_all()\n",
    "        circuits += [qc] \n",
    "    \n",
    "\n",
    "    backend = Aer.get_backend('qasm_simulator')\n",
    "    results =  execute(circuits, backend).result()\n",
    "\n",
    "    predictions = [parity_classification(results.get_counts(c)) for c in circuits]\n",
    "    \n",
    "    cost = -np.mean(np.array([loss_function(y,y_hat) for (y,y_hat) in zip(Y, predictions)]))\n",
    "    #print(f\"Cost: {cost}\")\n",
    "    \n",
    "    return cost"
   ]
  },
  {
   "cell_type": "code",
   "execution_count": 21,
   "id": "2be148dc",
   "metadata": {
    "scrolled": true
   },
   "outputs": [
    {
     "data": {
      "application/vnd.jupyter.widget-view+json": {
       "model_id": "a7b555a25e804d3586ffa4b8867ca141",
       "version_major": 2,
       "version_minor": 0
      },
      "text/plain": [
       "  0%|          | 0/5 [00:00<?, ?it/s]"
      ]
     },
     "metadata": {},
     "output_type": "display_data"
    },
    {
     "data": {
      "application/vnd.jupyter.widget-view+json": {
       "model_id": "1ad67cd5d6794187906e3546fea2e5c3",
       "version_major": 2,
       "version_minor": 0
      },
      "text/plain": [
       "  0%|          | 0/200 [00:00<?, ?it/s]"
      ]
     },
     "metadata": {},
     "output_type": "display_data"
    },
    {
     "name": "stdout",
     "output_type": "stream",
     "text": [
      "[-1. -1.  1.  1. -1. -1.  1.  1.  1. -1. -1. -1.  1.  1. -1.  1. -1. -1.\n",
      " -1.  1.  1.  1.  1.  1. -1. -1. -1.  1. -1.  1. -1. -1. -1. -1.  1.  1.\n",
      "  1.  1. -1. -1.  1.  1. -1.  1.  1. -1.  1. -1.  1. -1. -1.  1.  1. -1.\n",
      "  1.  1. -1.  1.  1.  1.  1.  1.  1. -1.  1.  1.  1. -1.  1. -1.  1.  1.\n",
      " -1. -1. -1. -1. -1. -1.  1.  1.  1. -1.  1. -1. -1. -1.  1. -1. -1.  1.\n",
      " -1. -1. -1.  1.  1. -1. -1.  1.  1. -1. -1. -1. -1.  1.  1.  1. -1. -1.\n",
      " -1.  1.  1. -1.  1.  1. -1. -1.  1.  1. -1. -1. -1.  1.  1. -1.  1.  1.\n",
      "  1. -1. -1. -1. -1. -1.  1.  1. -1.  1.  1. -1.  1. -1.  1. -1.  1.  1.\n",
      "  1.  1.  1. -1. -1.  1.  1.  1. -1.  1. -1. -1. -1.  1.  1.  1. -1. -1.\n",
      " -1. -1.  1. -1.  1. -1. -1.  1. -1. -1.  1.  1.  1. -1.  1. -1. -1. -1.]\n",
      "[1, -1, 1, -1, -1, -1, -1, -1, 1, -1, -1, 1, -1, -1, -1, -1, 1, -1, 1, -1, -1, -1, 1, -1, -1, -1, -1, -1, 1, -1, -1, -1, 1, -1, -1, -1, -1, -1, -1, 1, -1, -1, 1, -1, -1, -1, -1, -1, -1, -1, -1, -1, 1, 1, -1, -1, 1, -1, -1, -1, -1, 1, 1, -1, -1, 1, -1, -1, -1, -1, 1, -1, -1, -1, 1, -1, 1, -1, -1, -1, 1, 1, -1, -1, 1, -1, -1, 1, -1, 1, -1, 1, -1, -1, 1, -1, -1, -1, 1, -1, -1, -1, -1, 1, 1, -1, 1, -1, -1, 1, -1, -1, -1, 1, -1, 1, -1, -1, 1, 1, 1, -1, -1, -1, 1, -1, -1, -1, 1, -1, -1, -1, -1, -1, 1, -1, -1, -1, -1, 1, 1, -1, -1, -1, -1, -1, 1, 1, -1, 1, -1, 1, 1, -1, 1, -1, -1, -1, 1, 1, -1, 1, -1, -1, -1, -1, 1, -1, -1, -1, -1, -1, -1, 1, -1, 1, 1, -1, -1, -1]\n",
      "0.48333333333333334\n"
     ]
    },
    {
     "data": {
      "image/png": "[encoded data removed]",
      "text/plain": [
       "<Figure size 432x288 with 1 Axes>"
      ]
     },
     "metadata": {
      "needs_background": "light"
     },
     "output_type": "display_data"
    },
    {
     "name": "stdout",
     "output_type": "stream",
     "text": [
      "[-1. -1. -1.  1. -1. -1.  1.  1. -1. -1. -1.  1. -1.  1. -1.  1.  1. -1.\n",
      "  1.  1.  1. -1.  1.  1.  1. -1.  1. -1. -1.  1. -1.  1.  1.  1.  1. -1.\n",
      " -1.  1.  1.  1.  1. -1.  1.  1. -1. -1. -1. -1.  1.  1. -1. -1. -1. -1.]\n",
      "[1, -1, -1, 1, -1, 1, -1, 1, -1, -1, -1, -1, -1, -1, 1, 1, 1, -1, 1, -1, -1, 1, -1, -1, -1, -1, -1, -1, -1, 1, 1, -1, 1, -1, -1, 1, -1, -1, 1, -1, -1, -1, -1, -1, 1, -1, 1, 1, -1, -1, 1, -1, 1, -1]\n",
      "0.4444444444444444\n"
     ]
    },
    {
     "data": {
      "application/vnd.jupyter.widget-view+json": {
       "model_id": "07f175fc3c854a6f93f0669c3281a58b",
       "version_major": 2,
       "version_minor": 0
      },
      "text/plain": [
       "  0%|          | 0/400 [00:00<?, ?it/s]"
      ]
     },
     "metadata": {},
     "output_type": "display_data"
    },
    {
     "ename": "QiskitError",
     "evalue": "'Keyboard interrupt in parallel_map.'",
     "output_type": "error",
     "traceback": [
      "\u001b[0;31m---------------------------------------------------------------------------\u001b[0m",
      "\u001b[0;31mKeyboardInterrupt\u001b[0m                         Traceback (most recent call last)",
      "File \u001b[0;32m~/.local/lib/python3.8/site-packages/qiskit/tools/parallel.py:149\u001b[0m, in \u001b[0;36mparallel_map\u001b[0;34m(task, values, task_args, task_kwargs, num_processes)\u001b[0m\n\u001b[1;32m    148\u001b[0m     param \u001b[38;5;241m=\u001b[39m \u001b[38;5;28mmap\u001b[39m(\u001b[38;5;28;01mlambda\u001b[39;00m value: (task, value, task_args, task_kwargs), values)\n\u001b[0;32m--> 149\u001b[0m     future \u001b[38;5;241m=\u001b[39m executor\u001b[38;5;241m.\u001b[39mmap(_task_wrapper, param)\n\u001b[1;32m    151\u001b[0m results \u001b[38;5;241m=\u001b[39m \u001b[38;5;28mlist\u001b[39m(future)\n",
      "File \u001b[0;32m/usr/lib/python3.8/concurrent/futures/_base.py:644\u001b[0m, in \u001b[0;36mExecutor.__exit__\u001b[0;34m(self, exc_type, exc_val, exc_tb)\u001b[0m\n\u001b[1;32m    643\u001b[0m \u001b[38;5;28;01mdef\u001b[39;00m \u001b[38;5;21m__exit__\u001b[39m(\u001b[38;5;28mself\u001b[39m, exc_type, exc_val, exc_tb):\n\u001b[0;32m--> 644\u001b[0m     \u001b[38;5;28;43mself\u001b[39;49m\u001b[38;5;241;43m.\u001b[39;49m\u001b[43mshutdown\u001b[49m\u001b[43m(\u001b[49m\u001b[43mwait\u001b[49m\u001b[38;5;241;43m=\u001b[39;49m\u001b[38;5;28;43;01mTrue\u001b[39;49;00m\u001b[43m)\u001b[49m\n\u001b[1;32m    645\u001b[0m     \u001b[38;5;28;01mreturn\u001b[39;00m \u001b[38;5;28;01mFalse\u001b[39;00m\n",
      "File \u001b[0;32m/usr/lib/python3.8/concurrent/futures/process.py:686\u001b[0m, in \u001b[0;36mProcessPoolExecutor.shutdown\u001b[0;34m(self, wait)\u001b[0m\n\u001b[1;32m    685\u001b[0m     \u001b[38;5;28;01mif\u001b[39;00m wait:\n\u001b[0;32m--> 686\u001b[0m         \u001b[38;5;28;43mself\u001b[39;49m\u001b[38;5;241;43m.\u001b[39;49m\u001b[43m_queue_management_thread\u001b[49m\u001b[38;5;241;43m.\u001b[39;49m\u001b[43mjoin\u001b[49m\u001b[43m(\u001b[49m\u001b[43m)\u001b[49m\n\u001b[1;32m    687\u001b[0m \u001b[38;5;66;03m# To reduce the risk of opening too many files, remove references to\u001b[39;00m\n\u001b[1;32m    688\u001b[0m \u001b[38;5;66;03m# objects that use file descriptors.\u001b[39;00m\n",
      "File \u001b[0;32m/usr/lib/python3.8/threading.py:1011\u001b[0m, in \u001b[0;36mThread.join\u001b[0;34m(self, timeout)\u001b[0m\n\u001b[1;32m   1010\u001b[0m \u001b[38;5;28;01mif\u001b[39;00m timeout \u001b[38;5;129;01mis\u001b[39;00m \u001b[38;5;28;01mNone\u001b[39;00m:\n\u001b[0;32m-> 1011\u001b[0m     \u001b[38;5;28;43mself\u001b[39;49m\u001b[38;5;241;43m.\u001b[39;49m\u001b[43m_wait_for_tstate_lock\u001b[49m\u001b[43m(\u001b[49m\u001b[43m)\u001b[49m\n\u001b[1;32m   1012\u001b[0m \u001b[38;5;28;01melse\u001b[39;00m:\n\u001b[1;32m   1013\u001b[0m     \u001b[38;5;66;03m# the behavior of a negative timeout isn't documented, but\u001b[39;00m\n\u001b[1;32m   1014\u001b[0m     \u001b[38;5;66;03m# historically .join(timeout=x) for x<0 has acted as if timeout=0\u001b[39;00m\n",
      "File \u001b[0;32m/usr/lib/python3.8/threading.py:1027\u001b[0m, in \u001b[0;36mThread._wait_for_tstate_lock\u001b[0;34m(self, block, timeout)\u001b[0m\n\u001b[1;32m   1026\u001b[0m     \u001b[38;5;28;01massert\u001b[39;00m \u001b[38;5;28mself\u001b[39m\u001b[38;5;241m.\u001b[39m_is_stopped\n\u001b[0;32m-> 1027\u001b[0m \u001b[38;5;28;01melif\u001b[39;00m \u001b[43mlock\u001b[49m\u001b[38;5;241;43m.\u001b[39;49m\u001b[43macquire\u001b[49m\u001b[43m(\u001b[49m\u001b[43mblock\u001b[49m\u001b[43m,\u001b[49m\u001b[43m \u001b[49m\u001b[43mtimeout\u001b[49m\u001b[43m)\u001b[49m:\n\u001b[1;32m   1028\u001b[0m     lock\u001b[38;5;241m.\u001b[39mrelease()\n",
      "\u001b[0;31mKeyboardInterrupt\u001b[0m: ",
      "\nThe above exception was the direct cause of the following exception:\n",
      "\u001b[0;31mQiskitError\u001b[0m                               Traceback (most recent call last)",
      "Input \u001b[0;32mIn [21]\u001b[0m, in \u001b[0;36m<module>\u001b[0;34m\u001b[0m\n\u001b[1;32m      8\u001b[0m dic_amp_ce[maxiter][\u001b[38;5;124m\"\u001b[39m\u001b[38;5;124mscore\u001b[39m\u001b[38;5;124m\"\u001b[39m] \u001b[38;5;241m=\u001b[39m {}\n\u001b[1;32m     10\u001b[0m t \u001b[38;5;241m=\u001b[39m tqdm_notebook(total\u001b[38;5;241m=\u001b[39mmaxiter)\n\u001b[0;32m---> 11\u001b[0m opt_var1, opt_value1 , parameters, costs, evaluations \u001b[38;5;241m=\u001b[39m \u001b[43mtrain\u001b[49m\u001b[43m(\u001b[49m\u001b[43mansatz\u001b[49m\u001b[43m,\u001b[49m\n\u001b[1;32m     12\u001b[0m \u001b[43m                                                              \u001b[49m\u001b[43mtrain_data\u001b[49m\u001b[43m,\u001b[49m\n\u001b[1;32m     13\u001b[0m \u001b[43m                                                              \u001b[49m\u001b[43mtrain_labels\u001b[49m\u001b[43m,\u001b[49m\n\u001b[1;32m     14\u001b[0m \u001b[43m                                                              \u001b[49m\u001b[43mself_encoding\u001b[49m\u001b[38;5;241;43m=\u001b[39;49m\u001b[38;5;28;43;01mTrue\u001b[39;49;00m\u001b[43m,\u001b[49m\u001b[43m \u001b[49m\n\u001b[1;32m     15\u001b[0m \u001b[43m                                                              \u001b[49m\u001b[43minitial_point\u001b[49m\u001b[38;5;241;43m=\u001b[39;49m\u001b[38;5;28;43;01mNone\u001b[39;49;00m\u001b[43m,\u001b[49m\n\u001b[1;32m     16\u001b[0m \u001b[43m                                                              \u001b[49m\u001b[43mmaxiter\u001b[49m\u001b[38;5;241;43m=\u001b[39;49m\u001b[43mmaxiter\u001b[49m\u001b[43m)\u001b[49m\n\u001b[1;32m     18\u001b[0m score_train, prediction_tst \u001b[38;5;241m=\u001b[39m func_accuracy(train_data, train_labels, opt_var1, self_encoding\u001b[38;5;241m=\u001b[39m\u001b[38;5;28;01mTrue\u001b[39;00m)\n\u001b[1;32m     19\u001b[0m dic_amp_ce[maxiter][\u001b[38;5;124m\"\u001b[39m\u001b[38;5;124mscore\u001b[39m\u001b[38;5;124m\"\u001b[39m][\u001b[38;5;124m\"\u001b[39m\u001b[38;5;124mtrainning\u001b[39m\u001b[38;5;124m\"\u001b[39m] \u001b[38;5;241m=\u001b[39m score_train\n",
      "Input \u001b[0;32mIn [6]\u001b[0m, in \u001b[0;36mtrain\u001b[0;34m(ansatz, train_data, train_labels, self_encoding, lr, initial_point, maxiter)\u001b[0m\n\u001b[1;32m     24\u001b[0m objective_function \u001b[38;5;241m=\u001b[39m \u001b[38;5;28;01mlambda\u001b[39;00m variational: cost_function(ansatz,\n\u001b[1;32m     25\u001b[0m         train_data, train_labels, variational, self_encoding\u001b[38;5;241m=\u001b[39mself_encoding)\n\u001b[1;32m     27\u001b[0m \u001b[38;5;66;03m# Run the optimization\u001b[39;00m\n\u001b[0;32m---> 28\u001b[0m opt_var, opt_value, _ \u001b[38;5;241m=\u001b[39m \u001b[43moptimizer\u001b[49m\u001b[38;5;241;43m.\u001b[39;49m\u001b[43moptimize\u001b[49m\u001b[43m(\u001b[49m\u001b[38;5;28;43mlen\u001b[39;49m\u001b[43m(\u001b[49m\u001b[43minitial_point\u001b[49m\u001b[43m)\u001b[49m\u001b[43m,\u001b[49m\u001b[43m \u001b[49m\u001b[43mobjective_function\u001b[49m\u001b[43m,\u001b[49m\u001b[43m \u001b[49m\u001b[43minitial_point\u001b[49m\u001b[38;5;241;43m=\u001b[39;49m\u001b[43minitial_point\u001b[49m\u001b[43m)\u001b[49m\n\u001b[1;32m     30\u001b[0m \u001b[38;5;28;01mreturn\u001b[39;00m opt_var, opt_value , parameters, costs, evaluations\n",
      "File \u001b[0;32m~/.local/lib/python3.8/site-packages/qiskit/algorithms/optimizers/spsa.py:652\u001b[0m, in \u001b[0;36mSPSA.optimize\u001b[0;34m(self, num_vars, objective_function, gradient_function, variable_bounds, initial_point)\u001b[0m\n\u001b[1;32m    644\u001b[0m \u001b[38;5;28;01mdef\u001b[39;00m \u001b[38;5;21moptimize\u001b[39m(\n\u001b[1;32m    645\u001b[0m     \u001b[38;5;28mself\u001b[39m,\n\u001b[1;32m    646\u001b[0m     num_vars,\n\u001b[0;32m   (...)\u001b[0m\n\u001b[1;32m    650\u001b[0m     initial_point\u001b[38;5;241m=\u001b[39m\u001b[38;5;28;01mNone\u001b[39;00m,\n\u001b[1;32m    651\u001b[0m ):\n\u001b[0;32m--> 652\u001b[0m     result \u001b[38;5;241m=\u001b[39m \u001b[38;5;28;43mself\u001b[39;49m\u001b[38;5;241;43m.\u001b[39;49m\u001b[43mminimize\u001b[49m\u001b[43m(\u001b[49m\u001b[43mobjective_function\u001b[49m\u001b[43m,\u001b[49m\u001b[43m \u001b[49m\u001b[43minitial_point\u001b[49m\u001b[43m)\u001b[49m\n\u001b[1;32m    653\u001b[0m     \u001b[38;5;28;01mreturn\u001b[39;00m result\u001b[38;5;241m.\u001b[39mx, result\u001b[38;5;241m.\u001b[39mfun, result\u001b[38;5;241m.\u001b[39mnfev\n",
      "File \u001b[0;32m~/.local/lib/python3.8/site-packages/qiskit/algorithms/optimizers/spsa.py:596\u001b[0m, in \u001b[0;36mSPSA.minimize\u001b[0;34m(self, fun, x0, jac, bounds)\u001b[0m\n\u001b[1;32m    594\u001b[0m     \u001b[38;5;28;01mif\u001b[39;00m \u001b[38;5;129;01mnot\u001b[39;00m \u001b[38;5;28mself\u001b[39m\u001b[38;5;241m.\u001b[39mblocking:\n\u001b[1;32m    595\u001b[0m         \u001b[38;5;28mself\u001b[39m\u001b[38;5;241m.\u001b[39m_nfev \u001b[38;5;241m+\u001b[39m\u001b[38;5;241m=\u001b[39m \u001b[38;5;241m1\u001b[39m\n\u001b[0;32m--> 596\u001b[0m         fx_next \u001b[38;5;241m=\u001b[39m \u001b[43mfun\u001b[49m\u001b[43m(\u001b[49m\u001b[43mx_next\u001b[49m\u001b[43m)\u001b[49m\n\u001b[1;32m    598\u001b[0m     \u001b[38;5;28mself\u001b[39m\u001b[38;5;241m.\u001b[39mcallback(\n\u001b[1;32m    599\u001b[0m         \u001b[38;5;28mself\u001b[39m\u001b[38;5;241m.\u001b[39m_nfev,  \u001b[38;5;66;03m# number of function evals\u001b[39;00m\n\u001b[1;32m    600\u001b[0m         x_next,  \u001b[38;5;66;03m# next parameters\u001b[39;00m\n\u001b[0;32m   (...)\u001b[0m\n\u001b[1;32m    603\u001b[0m         \u001b[38;5;28;01mTrue\u001b[39;00m,\n\u001b[1;32m    604\u001b[0m     )  \u001b[38;5;66;03m# accepted\u001b[39;00m\n\u001b[1;32m    606\u001b[0m \u001b[38;5;66;03m# update parameters\u001b[39;00m\n",
      "Input \u001b[0;32mIn [6]\u001b[0m, in \u001b[0;36mtrain.<locals>.<lambda>\u001b[0;34m(variational)\u001b[0m\n\u001b[1;32m     21\u001b[0m \u001b[38;5;28;01melse\u001b[39;00m:      \n\u001b[1;32m     22\u001b[0m         initial_point \u001b[38;5;241m=\u001b[39m np\u001b[38;5;241m.\u001b[39mrandom\u001b[38;5;241m.\u001b[39mrandom(ansatz\u001b[38;5;241m.\u001b[39mnum_parameters)\n\u001b[0;32m---> 24\u001b[0m objective_function \u001b[38;5;241m=\u001b[39m \u001b[38;5;28;01mlambda\u001b[39;00m variational: \u001b[43mcost_function\u001b[49m\u001b[43m(\u001b[49m\u001b[43mansatz\u001b[49m\u001b[43m,\u001b[49m\n\u001b[1;32m     25\u001b[0m \u001b[43m        \u001b[49m\u001b[43mtrain_data\u001b[49m\u001b[43m,\u001b[49m\u001b[43m \u001b[49m\u001b[43mtrain_labels\u001b[49m\u001b[43m,\u001b[49m\u001b[43m \u001b[49m\u001b[43mvariational\u001b[49m\u001b[43m,\u001b[49m\u001b[43m \u001b[49m\u001b[43mself_encoding\u001b[49m\u001b[38;5;241;43m=\u001b[39;49m\u001b[43mself_encoding\u001b[49m\u001b[43m)\u001b[49m\n\u001b[1;32m     27\u001b[0m \u001b[38;5;66;03m# Run the optimization\u001b[39;00m\n\u001b[1;32m     28\u001b[0m opt_var, opt_value, _ \u001b[38;5;241m=\u001b[39m optimizer\u001b[38;5;241m.\u001b[39moptimize(\u001b[38;5;28mlen\u001b[39m(initial_point), objective_function, initial_point\u001b[38;5;241m=\u001b[39minitial_point)\n",
      "Input \u001b[0;32mIn [17]\u001b[0m, in \u001b[0;36mcost_function\u001b[0;34m(ansatz, X, Y, thetas, self_encoding)\u001b[0m\n\u001b[1;32m     33\u001b[0m     circuits \u001b[38;5;241m+\u001b[39m\u001b[38;5;241m=\u001b[39m [qc] \n\u001b[1;32m     36\u001b[0m backend \u001b[38;5;241m=\u001b[39m Aer\u001b[38;5;241m.\u001b[39mget_backend(\u001b[38;5;124m'\u001b[39m\u001b[38;5;124mqasm_simulator\u001b[39m\u001b[38;5;124m'\u001b[39m)\n\u001b[0;32m---> 37\u001b[0m results \u001b[38;5;241m=\u001b[39m  \u001b[43mexecute\u001b[49m\u001b[43m(\u001b[49m\u001b[43mcircuits\u001b[49m\u001b[43m,\u001b[49m\u001b[43m \u001b[49m\u001b[43mbackend\u001b[49m\u001b[43m)\u001b[49m\u001b[38;5;241m.\u001b[39mresult()\n\u001b[1;32m     39\u001b[0m predictions \u001b[38;5;241m=\u001b[39m [parity_classification(results\u001b[38;5;241m.\u001b[39mget_counts(c)) \u001b[38;5;28;01mfor\u001b[39;00m c \u001b[38;5;129;01min\u001b[39;00m circuits]\n\u001b[1;32m     41\u001b[0m cost \u001b[38;5;241m=\u001b[39m \u001b[38;5;241m-\u001b[39mnp\u001b[38;5;241m.\u001b[39mmean(np\u001b[38;5;241m.\u001b[39marray([loss_function(y,y_hat) \u001b[38;5;28;01mfor\u001b[39;00m (y,y_hat) \u001b[38;5;129;01min\u001b[39;00m \u001b[38;5;28mzip\u001b[39m(Y, predictions)]))\n",
      "File \u001b[0;32m~/.local/lib/python3.8/site-packages/qiskit/execute_function.py:297\u001b[0m, in \u001b[0;36mexecute\u001b[0;34m(experiments, backend, basis_gates, coupling_map, backend_properties, initial_layout, seed_transpiler, optimization_level, pass_manager, qobj_id, qobj_header, shots, memory, max_credits, seed_simulator, default_qubit_los, default_meas_los, qubit_lo_range, meas_lo_range, schedule_los, meas_level, meas_return, memory_slots, memory_slot_size, rep_time, rep_delay, parameter_binds, schedule_circuit, inst_map, meas_map, scheduling_method, init_qubits, **run_config)\u001b[0m\n\u001b[1;32m    294\u001b[0m     experiments \u001b[38;5;241m=\u001b[39m pass_manager\u001b[38;5;241m.\u001b[39mrun(experiments)\n\u001b[1;32m    295\u001b[0m \u001b[38;5;28;01melse\u001b[39;00m:\n\u001b[1;32m    296\u001b[0m     \u001b[38;5;66;03m# transpiling the circuits using given transpile options\u001b[39;00m\n\u001b[0;32m--> 297\u001b[0m     experiments \u001b[38;5;241m=\u001b[39m \u001b[43mtranspile\u001b[49m\u001b[43m(\u001b[49m\n\u001b[1;32m    298\u001b[0m \u001b[43m        \u001b[49m\u001b[43mexperiments\u001b[49m\u001b[43m,\u001b[49m\n\u001b[1;32m    299\u001b[0m \u001b[43m        \u001b[49m\u001b[43mbasis_gates\u001b[49m\u001b[38;5;241;43m=\u001b[39;49m\u001b[43mbasis_gates\u001b[49m\u001b[43m,\u001b[49m\n\u001b[1;32m    300\u001b[0m \u001b[43m        \u001b[49m\u001b[43mcoupling_map\u001b[49m\u001b[38;5;241;43m=\u001b[39;49m\u001b[43mcoupling_map\u001b[49m\u001b[43m,\u001b[49m\n\u001b[1;32m    301\u001b[0m \u001b[43m        \u001b[49m\u001b[43mbackend_properties\u001b[49m\u001b[38;5;241;43m=\u001b[39;49m\u001b[43mbackend_properties\u001b[49m\u001b[43m,\u001b[49m\n\u001b[1;32m    302\u001b[0m \u001b[43m        \u001b[49m\u001b[43minitial_layout\u001b[49m\u001b[38;5;241;43m=\u001b[39;49m\u001b[43minitial_layout\u001b[49m\u001b[43m,\u001b[49m\n\u001b[1;32m    303\u001b[0m \u001b[43m        \u001b[49m\u001b[43mseed_transpiler\u001b[49m\u001b[38;5;241;43m=\u001b[39;49m\u001b[43mseed_transpiler\u001b[49m\u001b[43m,\u001b[49m\n\u001b[1;32m    304\u001b[0m \u001b[43m        \u001b[49m\u001b[43moptimization_level\u001b[49m\u001b[38;5;241;43m=\u001b[39;49m\u001b[43moptimization_level\u001b[49m\u001b[43m,\u001b[49m\n\u001b[1;32m    305\u001b[0m \u001b[43m        \u001b[49m\u001b[43mbackend\u001b[49m\u001b[38;5;241;43m=\u001b[39;49m\u001b[43mbackend\u001b[49m\u001b[43m,\u001b[49m\n\u001b[1;32m    306\u001b[0m \u001b[43m    \u001b[49m\u001b[43m)\u001b[49m\n\u001b[1;32m    308\u001b[0m \u001b[38;5;28;01mif\u001b[39;00m schedule_circuit:\n\u001b[1;32m    309\u001b[0m     experiments \u001b[38;5;241m=\u001b[39m schedule(\n\u001b[1;32m    310\u001b[0m         circuits\u001b[38;5;241m=\u001b[39mexperiments,\n\u001b[1;32m    311\u001b[0m         backend\u001b[38;5;241m=\u001b[39mbackend,\n\u001b[0;32m   (...)\u001b[0m\n\u001b[1;32m    314\u001b[0m         method\u001b[38;5;241m=\u001b[39mscheduling_method,\n\u001b[1;32m    315\u001b[0m     )\n",
      "File \u001b[0;32m~/.local/lib/python3.8/site-packages/qiskit/compiler/transpiler.py:304\u001b[0m, in \u001b[0;36mtranspile\u001b[0;34m(circuits, backend, basis_gates, inst_map, coupling_map, backend_properties, initial_layout, layout_method, routing_method, translation_method, scheduling_method, instruction_durations, dt, approximation_degree, timing_constraints, seed_transpiler, optimization_level, callback, output_name, unitary_synthesis_method, unitary_synthesis_plugin_config, target)\u001b[0m\n\u001b[1;32m    301\u001b[0m _check_circuits_coupling_map(circuits, transpile_args, backend)\n\u001b[1;32m    303\u001b[0m \u001b[38;5;66;03m# Transpile circuits in parallel\u001b[39;00m\n\u001b[0;32m--> 304\u001b[0m circuits \u001b[38;5;241m=\u001b[39m \u001b[43mparallel_map\u001b[49m\u001b[43m(\u001b[49m\u001b[43m_transpile_circuit\u001b[49m\u001b[43m,\u001b[49m\u001b[43m \u001b[49m\u001b[38;5;28;43mlist\u001b[39;49m\u001b[43m(\u001b[49m\u001b[38;5;28;43mzip\u001b[39;49m\u001b[43m(\u001b[49m\u001b[43mcircuits\u001b[49m\u001b[43m,\u001b[49m\u001b[43m \u001b[49m\u001b[43mtranspile_args\u001b[49m\u001b[43m)\u001b[49m\u001b[43m)\u001b[49m\u001b[43m)\u001b[49m\n\u001b[1;32m    306\u001b[0m end_time \u001b[38;5;241m=\u001b[39m time()\n\u001b[1;32m    307\u001b[0m _log_transpile_time(start_time, end_time)\n",
      "File \u001b[0;32m~/.local/lib/python3.8/site-packages/qiskit/tools/parallel.py:158\u001b[0m, in \u001b[0;36mparallel_map\u001b[0;34m(task, values, task_args, task_kwargs, num_processes)\u001b[0m\n\u001b[1;32m    156\u001b[0m     Publisher()\u001b[38;5;241m.\u001b[39mpublish(\u001b[38;5;124m\"\u001b[39m\u001b[38;5;124mterra.parallel.finish\u001b[39m\u001b[38;5;124m\"\u001b[39m)\n\u001b[1;32m    157\u001b[0m     os\u001b[38;5;241m.\u001b[39menviron[\u001b[38;5;124m\"\u001b[39m\u001b[38;5;124mQISKIT_IN_PARALLEL\u001b[39m\u001b[38;5;124m\"\u001b[39m] \u001b[38;5;241m=\u001b[39m \u001b[38;5;124m\"\u001b[39m\u001b[38;5;124mFALSE\u001b[39m\u001b[38;5;124m\"\u001b[39m\n\u001b[0;32m--> 158\u001b[0m     \u001b[38;5;28;01mraise\u001b[39;00m QiskitError(\u001b[38;5;124m\"\u001b[39m\u001b[38;5;124mKeyboard interrupt in parallel_map.\u001b[39m\u001b[38;5;124m\"\u001b[39m) \u001b[38;5;28;01mfrom\u001b[39;00m \u001b[38;5;21;01merror\u001b[39;00m\n\u001b[1;32m    159\u001b[0m \u001b[38;5;66;03m# Otherwise just reset parallel flag and error\u001b[39;00m\n\u001b[1;32m    160\u001b[0m os\u001b[38;5;241m.\u001b[39menviron[\u001b[38;5;124m\"\u001b[39m\u001b[38;5;124mQISKIT_IN_PARALLEL\u001b[39m\u001b[38;5;124m\"\u001b[39m] \u001b[38;5;241m=\u001b[39m \u001b[38;5;124m\"\u001b[39m\u001b[38;5;124mFALSE\u001b[39m\u001b[38;5;124m\"\u001b[39m\n",
      "\u001b[0;31mQiskitError\u001b[0m: 'Keyboard interrupt in parallel_map.'"
     ]
    }
   ],
   "source": [
    "maxiter=200\n",
    "p = tqdm_notebook(total=5)\n",
    "dic_amp_ce = {}\n",
    "while maxiter <= 1000:\n",
    " \n",
    "    dic_amp_ce[maxiter] = {}\n",
    "    \n",
    "    dic_amp_ce[maxiter][\"score\"] = {}\n",
    "\n",
    "    t = tqdm_notebook(total=maxiter)\n",
    "    opt_var1, opt_value1 , parameters, costs, evaluations = train(ansatz,\n",
    "                                                                  train_data,\n",
    "                                                                  train_labels,\n",
    "                                                                  self_encoding=True, \n",
    "                                                                  initial_point=None,\n",
    "                                                                  maxiter=maxiter)\n",
    "    \n",
    "    score_train, prediction_tst = func_accuracy(train_data, train_labels, opt_var1, self_encoding=True)\n",
    "    dic_amp_ce[maxiter][\"score\"][\"trainning\"] = score_train\n",
    "    print(score_train)\n",
    "    \n",
    "    fig = plt.figure()\n",
    "    plt.plot(evaluations, costs)\n",
    "    plt.xlabel('Steps')\n",
    "    plt.ylabel('Cost')\n",
    "    plt.title(\"cost function during training\")\n",
    "    plt.show()\n",
    "    \n",
    "    score_tst, prediction_tst = func_accuracy(test_data, test_labels, opt_var1, self_encoding=True)\n",
    "    dic_amp_ce[maxiter][\"score\"][\"test\"] = score_tst\n",
    "    print(score_tst)\n",
    "    \n",
    "    \n",
    "    encoder = OneHotEncoder()\n",
    "    prediction_oh = encoder.fit_transform(np.array(prediction_tst).reshape(-1, 1)).toarray()\n",
    "    \n",
    "    mat, lng = get_mat(prediction_oh, test_labels_oh)\n",
    "    dic_amp_ce[maxiter][\"mat\"] = mat.tolist()\n",
    "    \n",
    "    stats = get_stats(mat)\n",
    "    dic_amp_ce[maxiter][\"stats\"] = stats\n",
    "    \n",
    "    dic_amp_ce[maxiter][\"parameters\"] = opt_value1.tolist()\n",
    "    \n",
    "    maxiter += 200\n",
    "    t.update(1)\n",
    "    \n",
    "with open('amp_ce_4Qbits_tst.json', 'w', encoding ='utf8') as json_file:\n",
    "    json.dump(dic_amp_ce, json_file, ensure_ascii = True)"
   ]
  },
  {
   "cell_type": "code",
   "execution_count": null,
   "id": "4964afc2",
   "metadata": {
    "scrolled": true
   },
   "outputs": [],
   "source": [
    "epochs = [200, 400, 600, 800, 1000]\n",
    "trainning_scores_amp_ce = []\n",
    "\n",
    "test_scores_amp_ce = []\n",
    "test_TNR_amp_ce = []\n",
    "test_TPR_amp_ce = []\n",
    "\n",
    "for epoch in epochs:\n",
    "    trainning_scores_amp_ce += [dic_amp_ce[epoch][\"score\"][\"trainning\"]]\n",
    "                         \n",
    "    test_scores_amp_ce += [dic_amp_ce[epoch][\"score\"][\"test\"]]\n",
    "    test_TNR_amp_ce += [dic_amp_ce[epoch][\"stats\"][\"TNR\"]]\n",
    "    test_TPR_amp_ce += [dic_amp_ce[epoch][\"stats\"][\"TPR\"]]"
   ]
  },
  {
   "cell_type": "code",
   "execution_count": null,
   "id": "f5db1f54",
   "metadata": {},
   "outputs": [],
   "source": []
  },
  {
   "cell_type": "markdown",
   "id": "4917c577",
   "metadata": {},
   "source": [
    "acc = []\n",
    "for _ in range(ACC_COUNT):\n",
    "    accuracy, prediction = func_accuracy(test_data, test_labels, opt_var, self_encoding=True)\n",
    "    print(\"Test set accuracy - {}\".format(accuracy))\n",
    "    acc += [accuracy]\n",
    "print(\"Test set accuracy (mean) - {}\".format(sum(acc)/ACC_COUNT))"
   ]
  },
  {
   "cell_type": "code",
   "execution_count": null,
   "id": "912624bc",
   "metadata": {},
   "outputs": [],
   "source": [
    "accuracy, prediction = func_accuracy(test_data, test_labels, opt_var, self_encoding=True)\n",
    "print(\"Test set accuracy - {}\".format(accuracy))"
   ]
  },
  {
   "cell_type": "code",
   "execution_count": null,
   "id": "f152cb37",
   "metadata": {},
   "outputs": [],
   "source": [
    "print(len(train_data))"
   ]
  }
 ],
 "metadata": {
  "kernelspec": {
   "display_name": "Python 3 (ipykernel)",
   "language": "python",
   "name": "python3"
  },
  "language_info": {
   "codemirror_mode": {
    "name": "ipython",
    "version": 3
   },
   "file_extension": ".py",
   "mimetype": "text/x-python",
   "name": "python",
   "nbconvert_exporter": "python",
   "pygments_lexer": "ipython3",
   "version": "3.8.10"
  }
 },
 "nbformat": 4,
 "nbformat_minor": 5
}
