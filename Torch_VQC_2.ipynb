{
 "cells": [
  {
   "cell_type": "code",
   "execution_count": 1,
   "id": "8ff9c37f",
   "metadata": {},
   "outputs": [],
   "source": [
    "import numpy as np\n",
    "import itertools as itr\n",
    "import matplotlib.pyplot as plt\n",
    "from time import sleep\n",
    "\n",
    "from torch import Tensor, manual_seed, is_tensor\n",
    "from torch.nn import Linear, CrossEntropyLoss, MSELoss\n",
    "from torch.optim import LBFGS, Adam\n",
    "from torch.utils.data import Dataset, DataLoader\n",
    "\n",
    "from qiskit import QuantumCircuit, ClassicalRegister, QuantumRegister, Aer, execute, transpile, assemble, IBMQ\n",
    "from qiskit.utils import QuantumInstance, algorithm_globals\n",
    "from qiskit.opflow import AerPauliExpectation\n",
    "from qiskit.circuit import Parameter,ParameterVector\n",
    "from qiskit.visualization import plot_histogram\n",
    "from qiskit.circuit.library import EfficientSU2, RealAmplitudes, ZZFeatureMap\n",
    "from qiskit.opflow.gradients import Gradient, NaturalGradient, QFI, Hessian\n",
    "#from sklearn.preprocessing import OneHotEncoder\n",
    "from qiskit.algorithms.optimizers import SPSA, GradientDescent, QNSPSA, ADAM\n",
    "#from qiskit.tools.monitor import job_monitor\n",
    "\n",
    "\n",
    "from qiskit_machine_learning.runtime import TorchRuntimeClient, TorchRuntimeResult\n",
    "from qiskit_machine_learning.connectors import TorchConnector\n",
    "from qiskit_machine_learning.neural_networks import CircuitQNN, TwoLayerQNN\n",
    "from qiskit_machine_learning.circuit.library import RawFeatureVector\n",
    "\n",
    "COUNTER = 0\n",
    "\n",
    "#Amp Encoding\n",
    "#DIR_val_train = \"Encode_data/amp_enc_data_set_trainning_values.csv\"\n",
    "#DIR_cls_train = \"Encode_data/amp_enc_data_set_trainning_classes.csv\"\n",
    "#DIR_val_test = \"Encode_data/amp_enc_data_set_test_values.csv\"\n",
    "#DIR_cls_test = \"Encode_data/amp_enc_data_set_test_classes.csv\"\n",
    "\n",
    "#Enc Encoding\n",
    "DIR_val_train = \"Encode_data/ang_enc_data_set_trainning_values.csv\"\n",
    "DIR_cls_train = \"Encode_data/ang_enc_data_set_trainning_classes.csv\"\n",
    "DIR_val_test = \"Encode_data/ang_enc_data_set_test_values.csv\"\n",
    "DIR_cls_test = \"Encode_data/ang_enc_data_set_test_classes.csv\"\n",
    "\n",
    "#IBMQ.save_account(\"\", overwrite=True)\n",
    "\n",
    "IBMQ.enable_account(\"dcbfead05af57561bd8ede02e3ba82d103c40683442fd5742116c4cc079999d49e865bc6b579a2f21186e8b7fb732c7161712ff6f41fcd9ea4c820e6d4d53d00\")\n",
    "\n",
    "provider = IBMQ.get_provider(hub=\"ibm-q\")  # replace by your runtime provider\n",
    "backend = provider.get_backend(\"ibmq_manila\")  # select a backend that supports the runtime"
   ]
  },
  {
   "cell_type": "markdown",
   "id": "9ff3fa6e",
   "metadata": {},
   "source": [
    "# Create Data Set/Loader"
   ]
  },
  {
   "cell_type": "code",
   "execution_count": 2,
   "id": "e4accfe6",
   "metadata": {},
   "outputs": [],
   "source": [
    "def get_encode(file):\n",
    "    \"\"\"\n",
    "     Funcao responsavel pelo encoding (amplitude)\n",
    "        Input :: \n",
    "        ### file : File dir\n",
    "        Output :: \n",
    "        #### data_enc : Valores para o encode (numpy array)\n",
    "    \"\"\"\n",
    "    return np.genfromtxt(file, delimiter=\";\")\n",
    "\n",
    "# Train data points\n",
    "train_data = get_encode(DIR_val_train)\n",
    "train_data_T = Tensor(train_data)\n",
    "train_labels = np.genfromtxt(DIR_cls_train, delimiter=\";\")\n",
    "train_labels_T = Tensor(train_labels).reshape(len(train_labels),1)\n",
    "\n",
    "# Test data points\n",
    "test_data = get_encode(DIR_val_test)\n",
    "test_data_T = Tensor(test_data)\n",
    "test_labels = np.genfromtxt(DIR_cls_test, delimiter=\";\")\n",
    "test_labels_T = Tensor(test_labels).reshape(len(test_labels),1)"
   ]
  },
  {
   "cell_type": "code",
   "execution_count": 3,
   "id": "7b965091",
   "metadata": {},
   "outputs": [],
   "source": [
    "# Create custom torch dataset class\n",
    "class TorchDataset(Dataset):\n",
    "    \"\"\"Map-style dataset\"\"\"\n",
    "\n",
    "    def __init__(self, X, y):\n",
    "        self.X = Tensor(X)\n",
    "        self.y = Tensor(y)\n",
    "\n",
    "    def __len__(self):\n",
    "        return len(self.X)\n",
    "\n",
    "    def __getitem__(self, idx):\n",
    "        import torch\n",
    "\n",
    "        if torch.is_tensor(idx):\n",
    "            idx = idx.tolist()\n",
    "\n",
    "        X_i = self.X[idx]\n",
    "        y_i = self.y[idx]\n",
    "\n",
    "        # important: the dataset item must be returned as data,target\n",
    "        return X_i, y_i"
   ]
  },
  {
   "cell_type": "code",
   "execution_count": 4,
   "id": "3ea11fbd",
   "metadata": {},
   "outputs": [],
   "source": [
    "train_set = TorchDataset(train_data_T, train_labels_T)\n",
    "train_loader = DataLoader(train_set, batch_size=1, shuffle=False)\n",
    "test_set = TorchDataset(test_data_T, test_labels_T)\n",
    "test_loader = DataLoader(test_set, batch_size=1, shuffle=False)"
   ]
  },
  {
   "cell_type": "markdown",
   "id": "6e0f77b9",
   "metadata": {},
   "source": [
    "# Create Circuit and Torch Model"
   ]
  },
  {
   "cell_type": "code",
   "execution_count": 5,
   "id": "27d54dc7",
   "metadata": {},
   "outputs": [],
   "source": [
    "# Cicrcuito\n",
    "n_qubits = 5\n",
    "\n",
    "encoding = ZZFeatureMap(feature_dimension=n_qubits, reps=2)\n",
    "\n",
    "ansatz = EfficientSU2(n_qubits, \n",
    "                      entanglement='full', \n",
    "                      reps=3, \n",
    "                      insert_barriers=True, \n",
    "                      name=\"U(\\u03B8)\", \n",
    "                      parameter_prefix=\"\\u03B8\")\n",
    "\n",
    "# Moderl 1\n",
    "#qnn1 = TwoLayerQNN(n_qubits, \n",
    "#                   encoding, \n",
    "#                   ansatz)\n",
    "\n",
    "# Moderl 2\n",
    "qc = QuantumCircuit(n_qubits)\n",
    "qc.append(encoding, range(n_qubits))\n",
    "qc.append(ansatz, range(n_qubits))\n",
    "#qc.decompose().draw(output=\"text\")\n",
    "\n",
    "parity = lambda x: \"{:b}\".format(x).count(\"1\") % 2\n",
    "output_shape = 2  \n",
    "qnn2 = CircuitQNN(circuit=qc,\n",
    "                input_params=encoding.parameters,\n",
    "                weight_params=ansatz.parameters,\n",
    "                interpret=parity,\n",
    "                output_shape=output_shape,\n",
    "                sampling=True,\n",
    "                input_gradients=True)\n",
    "\n",
    "initial_parameters = np.random.random(ansatz.num_parameters)\n",
    "#model1 = TorchConnector(qnn1, initial_parameters)\n",
    "model2 = TorchConnector(qnn2, initial_parameters)\n",
    "\n",
    "#optimizer1 = Adam(model1.parameters(), lr=0.1)\n",
    "#loss_func1 = MSELoss(reduction=\"sum\")\n",
    "\n",
    "optimizer2 = Adam(model2.parameters(), lr=0.1)\n",
    "loss_func2 = CrossEntropyLoss(reduction=\"sum\")"
   ]
  },
  {
   "cell_type": "code",
   "execution_count": 6,
   "id": "228742e2",
   "metadata": {},
   "outputs": [],
   "source": [
    "def score_func(out, target):\n",
    "    from numpy import sign\n",
    "    score = 0\n",
    "    if sign(out.item()) == target.item():\n",
    "        score = 1\n",
    "    return score"
   ]
  },
  {
   "cell_type": "code",
   "execution_count": 7,
   "id": "0b4eec8f",
   "metadata": {},
   "outputs": [
    {
     "name": "stdout",
     "output_type": "stream",
     "text": [
      "skipping\n"
     ]
    }
   ],
   "source": [
    "%%script echo skipping\n",
    "def score_func(out, target):\n",
    "    from numpy import sign\n",
    "    score = 0\n",
    "    p = out.item()\n",
    "    output = 0 if p[0] > p[1] else 1 \n",
    "    \n",
    "    if output == target.item():\n",
    "        score = 1\n",
    "    return score"
   ]
  },
  {
   "cell_type": "markdown",
   "id": "0ae0a620",
   "metadata": {},
   "source": [
    "# Trainning"
   ]
  },
  {
   "cell_type": "code",
   "execution_count": null,
   "id": "6a354599",
   "metadata": {},
   "outputs": [],
   "source": [
    "torch_runtime_client_QNN_CEL = TorchRuntimeClient(\n",
    "    provider=provider,\n",
    "    model=model2,\n",
    "    optimizer=optimizer2,\n",
    "    loss_func=loss_func2,\n",
    "    epochs=2,\n",
    "    backend=backend)\n",
    "    \n",
    "fit_result_TW_MSE = torch_runtime_client_QNN_CEL.fit(train_loader=train_loader)\n",
    "print(\"train execution time: \", fit_result_TW_MSE.execution_time)\n",
    "\n",
    "score_result = torch_runtime_client_QNN_CEL.score(data_loader=test_loader, score_func=score_func)\n",
    "print(\"id: \", score_result.job_id)\n",
    "print(\"execution time: \", score_result.execution_time)\n",
    "print(\"score: \", score_result.score)"
   ]
  },
  {
   "cell_type": "code",
   "execution_count": null,
   "id": "c5fb6f46",
   "metadata": {},
   "outputs": [],
   "source": []
  }
 ],
 "metadata": {
  "kernelspec": {
   "display_name": "Python 3 (ipykernel)",
   "language": "python",
   "name": "python3"
  },
  "language_info": {
   "codemirror_mode": {
    "name": "ipython",
    "version": 3
   },
   "file_extension": ".py",
   "mimetype": "text/x-python",
   "name": "python",
   "nbconvert_exporter": "python",
   "pygments_lexer": "ipython3",
   "version": "3.8.10"
  }
 },
 "nbformat": 4,
 "nbformat_minor": 5
}
